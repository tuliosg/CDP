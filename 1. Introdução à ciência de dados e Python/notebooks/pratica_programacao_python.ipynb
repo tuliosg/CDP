{
  "nbformat": 4,
  "nbformat_minor": 0,
  "metadata": {
    "colab": {
      "provenance": []
    },
    "kernelspec": {
      "name": "python3",
      "display_name": "Python 3"
    },
    "language_info": {
      "name": "python"
    }
  },
  "cells": [
    {
      "cell_type": "markdown",
      "source": [
        "# **Prática de programação em Python**\n",
        "Neste notebook, vamos conhecer a linguagem Python e entender como os conceitos vistos até aqui são aplicados em uma linguagem de programação.  \n",
        "\n",
        "*Por que Python?*\n",
        "> O Python é uma linguagem de alto nível — uma linguagem de programação que se aproxima da linguagem natural —, considerada um canivete suíço no mundo da programação e conta com uma das maiores comunidades do mundo. Na área de dados, o Python se destaca por conta das incontáveis bibliotecas que permitem desde a manipulação de dados em diferentes formatos, a geração de gráficos para análises, até a construção de inteligências artificiais, passando por todo o ciclo de vida dos dados.\n"
      ],
      "metadata": {
        "id": "9RO92jdMgnZi"
      }
    },
    {
      "cell_type": "markdown",
      "source": [
        "## **Variáveis**\n",
        "Em Python, as variáveis podem ser definidas por qualquer nome, desde que sejam utilizadas apenas letras e números ou o símbolo underline, e, obrigatoriamente, comecem com letras. É importante frisar que não podem haver espaços em branco nos nomes das variáveis, pois isso gera erros.  \n",
        "\n",
        "Nomear uma variável requer especificidade, pois o nome dela tem que facilitar o entendimento na hora da programação. Assim, se queremos salvar um nome em uma variável, precisamos pensar em definições como `nome` ou `nome_sobrenome` ao invés de `variavel`.\n",
        "Vejamos alguns exemplos:"
      ],
      "metadata": {
        "id": "6rfvSAAEtvBC"
      }
    },
    {
      "cell_type": "code",
      "execution_count": null,
      "metadata": {
        "id": "EODg_V9QxRPU"
      },
      "outputs": [],
      "source": [
        "# Exemplos de variáveis que funcionam\n",
        "nome_1 = \"Nome\"\n",
        "verdadeiro = True\n",
        "numero_dias_ano = 365\n",
        "pi = 3.14\n",
        "\n",
        "# Exemplos de variáveis que NÃO funcionam\n",
        "# carro um = \"Chevete\"\n",
        "# 1animal = \"Papagaio\"\n",
        "# qualquer texto pode ser escrito aqui"
      ]
    },
    {
      "cell_type": "markdown",
      "source": [
        "### **O uso do \"=\" nas variáveis**\n",
        "Definir uma variável requer uma atribuição. Assim como na nossa receita, onde a variável `cumbuca` recebia 300g de farinha, em Python, precisamos dizer que `numero_dias_ano` recebe 365, e o sinal utilizado para essa atribuição é o **=** (igual). Então, a partir de agora, no contexto da programação, o sinal de **=** deve ser lido como \"**recebe**\". Voltando a nossa analogia com a cozinha, aqui estamos vendo os valores das variávies.\n",
        "\n",
        "Lendo as nossas variáveis anteriores:\n",
        "* `nome_1` **recebe** \"Nome\"\n",
        "* `nome_sobrenome` **recebe** \"Nome Sobrenome\"\n",
        "* `numero_dias_ano` **recebe** 365"
      ],
      "metadata": {
        "id": "fYlwSbvuvEtk"
      }
    },
    {
      "cell_type": "markdown",
      "source": [
        "### **Tipos de dados**\n",
        "Cada uma das variáveis recebeu um dado diferente, entre textos e números. Em Python, cada um desses tipos de dados tem uma nomenclatura específica. Vamos ver a seguir cada uma delas:"
      ],
      "metadata": {
        "id": "8WCXjm5Dw06W"
      }
    },
    {
      "cell_type": "code",
      "source": [
        "print(f\"\"\"\n",
        "Variáveis e seus tipos:\n",
        "\n",
        "A variável nome_1 é do tipo {type(nome_1)}\n",
        "A variável verdadeiro é do tipo {type(verdadeiro)}\n",
        "A variável numero_dias_ano é do tipo {type(numero_dias_ano)}\n",
        "A variável pi é do tipo {type(pi)}\n",
        "\"\"\")"
      ],
      "metadata": {
        "colab": {
          "base_uri": "https://localhost:8080/"
        },
        "id": "rETV7cTEsLlL",
        "outputId": "dc103da0-a9fb-4241-977c-cf80f8e36114"
      },
      "execution_count": null,
      "outputs": [
        {
          "output_type": "stream",
          "name": "stdout",
          "text": [
            "\n",
            "Variáveis e seus tipos:\n",
            "\n",
            "A variável nome_1 é do tipo <class 'str'>\n",
            "A variável verdadeiro é do tipo <class 'bool'>\n",
            "A variável numero_dias_ano é do tipo <class 'int'>\n",
            "A variável pi é do tipo <class 'float'>\n",
            "\n"
          ]
        }
      ]
    },
    {
      "cell_type": "markdown",
      "source": [
        "#### **Entendendo os tipos de dados**\n",
        "Como foi apontado na saída do nosso código, os tipos de dados pertencem a determinadas classes. São elas:\n",
        "* `str`: classe das strings (ou sequência de texto) — são dados textuais;  \n",
        "    Strings sempre devem ser declaradas entre aspas (podem ser aspas simples ou duplas).\n",
        "    \n",
        "* `bool`: classe dos booleanos — verdadeiro, falso;  \n",
        "    Em Python, dados booleanos assumem apenas dois valores: True e False.\n",
        "\n",
        "* `int`: classe dos números inteiros;  \n",
        "    Os números inteiros são declarados diretamente, sem o uso de aspas;\n",
        "\n",
        "* `float`: classe dos números de ponto flutuante — números que possuem casas decimais.  \n",
        "    Os números de ponto flutuante devem conter o ponto e suas casas decimais para serem declarados: 3.14 (atentem-se que não usamos vírgula e sim ponto)."
      ],
      "metadata": {
        "id": "hn226qrUPbR_"
      }
    },
    {
      "cell_type": "markdown",
      "source": [
        "## **Funções**\n",
        "No conteúdo, vimos funções como estruturas que recebem entradas, realizam operações nessa entrada e devolvem uma saída, e o exemplo usado foi a soma.  \n",
        "Vamos ver uma função de soma escrita em Python:"
      ],
      "metadata": {
        "id": "ynyO0W-a-tH5"
      }
    },
    {
      "cell_type": "code",
      "source": [
        "def soma(numero_1, numero_2):\n",
        "\n",
        "    resultado = numero_1 + numero_2\n",
        "\n",
        "    return resultado"
      ],
      "metadata": {
        "id": "P8k2pP0h_Azd"
      },
      "execution_count": null,
      "outputs": []
    },
    {
      "cell_type": "markdown",
      "source": [
        "### **Lendo a função de soma**\n",
        "Na primeira linha vemos `def soma(numero_1, numero_2)`. Nela temos:\n",
        "* `def`: é a palavra que usamos para definir a função — *def* é a abreviação de *define*;\n",
        "* `soma`: esse é o nome da função, chamamos ela de função soma;\n",
        "* `(numero_1, numero_2)`: é a entrada da função. Estamos dizendo que serão inseridos dois dados, que foram chamados de numero_1 e numero_2 para facilitar o entendimento;\n",
        "* `resultado = numero_1 + numero_2`: essa é a operação principal da função soma. Nela, somamos os números da entrada e guardamos o valor dessa soma na variável `resultado`;\n",
        "* `return resultado`: é a saída da função, o resultado dela. O `return` é a operação de retorno da função, assim, podemos ler \"retorne o resultado\".\n",
        "\n",
        "Traduzindo a nossa função do Python para o português, temos:  \n",
        "```\n",
        "Estou definindo uma função chamada soma que:\n",
        "1. Recebe dois números;\n",
        "2. Soma os dois números e salva o resultado;\n",
        "3. Retorna o resultado da soma.\n",
        "```\n",
        "❗ *Percebam que após a primeira linha há um espaço (semelhante à um recuo de parágrafo) antes da escrita do código. O nome desse espaçamento é **identação**, e serve para indicar que as linhas seguintes fazem parte daquele bloco de código. Assim,  separamos o que é código da função e o que faz parte do resto do programa.*"
      ],
      "metadata": {
        "id": "jCQughudAERZ"
      }
    },
    {
      "cell_type": "markdown",
      "source": [
        "### **Testando a soma**\n",
        "O teste da função é bem simples. Como o nome dela é `soma`, basta chamarmos o seu nome e indicarmos quais números queremos somar."
      ],
      "metadata": {
        "id": "VO5YC7WHBrIB"
      }
    },
    {
      "cell_type": "code",
      "source": [
        "soma(2, 5)"
      ],
      "metadata": {
        "colab": {
          "base_uri": "https://localhost:8080/"
        },
        "id": "M3HaKdP7B6RC",
        "outputId": "2953f28a-9217-4555-98fa-b72b483b736b"
      },
      "execution_count": null,
      "outputs": [
        {
          "output_type": "execute_result",
          "data": {
            "text/plain": [
              "14"
            ]
          },
          "metadata": {},
          "execution_count": 35
        }
      ]
    },
    {
      "cell_type": "markdown",
      "source": [
        "O nome dessa ação que estamos fazendo é **chamada de função**. Para a função soma, a chamada é:  \n",
        "`soma(numero, outro_numero)` — a vírgula é entendida como um separador de argumentos, ou seja, usamos ela para separar o primeiro número da soma do segundo."
      ],
      "metadata": {
        "id": "BOIVhMSCCi2N"
      }
    },
    {
      "cell_type": "markdown",
      "source": [
        "### **Hora de praticar**\n",
        "Escolham dois números e executem a função soma na célula abaixo:\n"
      ],
      "metadata": {
        "id": "FSRhE_mPj4nu"
      }
    },
    {
      "cell_type": "code",
      "source": [
        "# escreva o seu código aqui\n",
        "soma(2, 4.1234)"
      ],
      "metadata": {
        "id": "Sl6CiNjmkFiE",
        "colab": {
          "base_uri": "https://localhost:8080/"
        },
        "outputId": "def7bab1-b22f-4ce6-cdcf-e58de60fe1f9"
      },
      "execution_count": null,
      "outputs": [
        {
          "output_type": "execute_result",
          "data": {
            "text/plain": [
              "6.1234"
            ]
          },
          "metadata": {},
          "execution_count": 39
        }
      ]
    },
    {
      "cell_type": "markdown",
      "source": [
        "## **Loops**\n",
        "Os loops são as estruturas que vão nos poupar de ter o trabalho massante de repetir muitas vezes uma determinada ação.  \n",
        "Para entender melhor, voltemos à soma. Vamos imaginar que aplicamos uma prova com 5 questões e, no momento de corrigir, queremos criar um programa que some as pontuações e retorne o resultado.\n",
        "\n",
        "Poderíamos tentar usar a nossa função `soma`?   \n",
        "Sim, mas seria um trabalho moroso, pois só é possível somar 2 números por vez, então seria necessário repetir essa chamada de função 4 vezes.\n",
        "\n",
        "Mas, com loops, podemos melhorar esse código e deixar todo o trabalho duro para o computador."
      ],
      "metadata": {
        "id": "fstKmzQulnIR"
      }
    },
    {
      "cell_type": "code",
      "source": [
        "pontuacao_questoes = [1, 1.5, 1, 0.9, 2]\n",
        "\n",
        "resultado = 0\n",
        "\n",
        "for pontuacao in pontuacao_questoes:\n",
        "    resultado = soma(resultado, pontuacao)\n",
        "\n",
        "print(resultado)"
      ],
      "metadata": {
        "colab": {
          "base_uri": "https://localhost:8080/"
        },
        "id": "cfJkb6LZnf_3",
        "outputId": "ed5f2338-56fa-4e1a-d6b4-68c96a394675"
      },
      "execution_count": null,
      "outputs": [
        {
          "output_type": "stream",
          "name": "stdout",
          "text": [
            "6.4\n"
          ]
        }
      ]
    },
    {
      "cell_type": "markdown",
      "source": [
        "### **Entendendo o loop**\n",
        "1. Vamos começar transformando as pontuações da prova em uma lista. Ou seja, vamos anotar cada uma das notas e guardar para somar — fizemos isso usando uma lista que possui 5 posições, uma para cada pontuação.  \n",
        "    `pontuacao_questoes = [1, 1.5, 1, 0.9, 0]`\n",
        "\n",
        "2. Depois, estabelecemos a pontuação inicial do discente — como toda prova que ainda não foi corrigida não tem pontuação, definimos que o aluno começa com a nota 0, por isso `resultado = 0`.  \n",
        "\n",
        "3. Para somar todas as pontuações, precisamos pegar cada uma delas e colocar na nossa conta. Essa ação é o **loop**, ou estrutura de repetição, e acontece na linha `for pontuacao in pontuacao_questoes:`, que pode ser lida como \"*para cada pontuação na lista de pontuações das questões*.\n",
        "\n",
        "4. Por fim, usamos a nossa função `soma` para somar as pontuações de cada questão e atualizar o valor do resultado da prova — a nota final.\n"
      ],
      "metadata": {
        "id": "UHT45G1woBIv"
      }
    },
    {
      "cell_type": "markdown",
      "source": [
        "Em Python, existe também a estrutura de repetição `While`. Apesar dela não ser abordada diretamente aqui, deixaremos um material de leitura para quem tiver curiosidade:  \n",
        "[Tutorial de Laços While em Python](https://www.freecodecamp.org/portuguese/news/tutorial-de-lacos-while-em-python-exemplos-de-sintaxe-while-true-e-lacos-infinitos/)"
      ],
      "metadata": {
        "id": "48c0l1eoErmH"
      }
    },
    {
      "cell_type": "markdown",
      "source": [
        "## **Bibliotecas**\n",
        "As bibliotecas são uma das grandes vantagens de se utilizar Python, pois temos acesso à um leque *quase* infinito de métodos, funções, operações, que já foram construídas e funcionam bem.  \n",
        "Para acessar uma biblioteca em Python precisamos fazer duas ações:\n",
        "1. Instalar a biblioteca — processo equivalente a instalar um programa no seu computador;\n",
        "2. Importar a biblioteca. Depois de instalada, é a importação dela para o nosso ambiente que possibilita o uso.\n",
        "\n",
        "Vamos instalar e usar uma biblioteca que já tem pronta esse código que criamos para somar as notas da prova. O nome da biblioteca é `numpy`."
      ],
      "metadata": {
        "id": "J6gvS3EeqZAV"
      }
    },
    {
      "cell_type": "markdown",
      "source": [
        "### **Instalando a biblioteca**\n",
        "A instalação é bem simples e acontece usando o bloco de código. A estrutura para instalar uma biblioteca no ambiente do Google Colab é:  \n",
        "`!pip install nome-da-biblioteca`\n",
        "\n",
        "Para a biblioteca que vamos utilizar, basta rodar a célula abaixo e esperar ela apresentar o símbolo ✅ que indica o fim da instalação."
      ],
      "metadata": {
        "id": "6Kzh_CRIr3au"
      }
    },
    {
      "cell_type": "code",
      "source": [
        "!pip install numpy"
      ],
      "metadata": {
        "colab": {
          "base_uri": "https://localhost:8080/"
        },
        "id": "Lr-YopvOqYk0",
        "outputId": "2c0c699e-a2ca-43d5-b973-44765ddb1e7e"
      },
      "execution_count": null,
      "outputs": [
        {
          "output_type": "stream",
          "name": "stdout",
          "text": [
            "Requirement already satisfied: numpy in /usr/local/lib/python3.11/dist-packages (2.0.2)\n"
          ]
        }
      ]
    },
    {
      "cell_type": "markdown",
      "source": [
        "### **Importando e usando o numpy**\n",
        "A importação — ou seja, chamar a biblioteca para ser usada — ocorre através da palavra `import`. Então, ao escrevermos `import numpy`, estamos indicando no nosso programa que as funcionalidades da biblioteca `numpy` serão importadas e poderão ser usadas.\n",
        "\n",
        "*E o uso?*  \n",
        "Usar uma função da biblioteca importada depende de chamarmos essa função indicando que ela faz parte da biblioteca.   \n",
        "Vamos dizer que queremos usar a função `sum` da biblioteca `numpy`. A estrutura para isso é:  \n",
        "`numpy.sum`\n",
        "\n",
        "Voltemos a prova que corrigimos. Com a função `sum` da biblitoeca que importamos, é possível somar todas as pontuações da nossa lista apenas inserindo ela como a variável de entrada na função."
      ],
      "metadata": {
        "id": "zKqjKXfbsffU"
      }
    },
    {
      "cell_type": "code",
      "source": [
        "import numpy\n",
        "\n",
        "pontuacao_questoes = [1, 1.5, 1, 0.9, 2.2]\n",
        "\n",
        "resultado = numpy.sum(pontuacao_questoes)\n",
        "\n",
        "print(resultado)"
      ],
      "metadata": {
        "colab": {
          "base_uri": "https://localhost:8080/"
        },
        "id": "Bf2ozbSxuBgH",
        "outputId": "1e832a0a-2885-41bd-dc56-f203753ec3e0"
      },
      "execution_count": null,
      "outputs": [
        {
          "output_type": "stream",
          "name": "stdout",
          "text": [
            "6.6000000000000005\n"
          ]
        }
      ]
    },
    {
      "cell_type": "markdown",
      "source": [
        "## **Estruturas de Dados**\n",
        "Até aqui, aprendemos a declarar variáveis e também quais tipos de dados podemos utilizar no Python. Agora, vamos incrementar esses conhecimentos, entendendo como podemos criar estruturas de dados.\n",
        "\n",
        "As estruturas de dados nativas do Python são: listas, tuplas, conjuntos e dicionários. No curso, veremos como funcionam as **listas** e os **dicionários**.\n",
        "\n"
      ],
      "metadata": {
        "id": "2d1OFLp8_8c4"
      }
    },
    {
      "cell_type": "markdown",
      "source": [
        "### **Listas**\n",
        "Em Python, uma lista é implementada como uma série de valores (itens) separados por vírgula e entre colchetes. Assim como fizemos na lista de pontuações das questões: `pontuacao_questoes = [1, 1.5, 1, 0.9, 0]`.\n",
        "\n",
        "As listas permitem a adição de mais de um tipo de dado, ou seja, podemos mesclar itens numéricos com textuais. Porém, no contexto desse curso, focaremos em listas com apenas um tipo de dado por lista.\n",
        "\n",
        "Vejamos abaixo mais alguns exemplos:"
      ],
      "metadata": {
        "id": "V910wnKhBDro"
      }
    },
    {
      "cell_type": "code",
      "source": [
        "nomes = [\"Ana\", \"João\", \"Fernando\", \"Maria\"]\n",
        "\n",
        "comidas = [\"arroz\", \"feijão\", \"batata\", \"macarrão\"]\n",
        "\n",
        "idades = [32, 19, 40, 56]\n",
        "\n",
        "print(nomes, comidas, idades)"
      ],
      "metadata": {
        "colab": {
          "base_uri": "https://localhost:8080/"
        },
        "id": "6XHyc3F3ELn6",
        "outputId": "25e7833f-5872-4163-9f17-1bbff6a27103"
      },
      "execution_count": null,
      "outputs": [
        {
          "output_type": "stream",
          "name": "stdout",
          "text": [
            "['Ana', 'João', 'Fernando', 'Maria'] ['arroz', 'feijão', 'batata', 'macarrão'] [32, 19, 40, 56]\n"
          ]
        }
      ]
    },
    {
      "cell_type": "markdown",
      "source": [
        "### **Dicionários**\n",
        "Em Python, dicionários são delimitados por chaves: `{ }`, e contém uma lista de pares `chave:valor` separada por vírgulas.  \n",
        "Essas estruturas são ótimas para armazenar dados de maneira organizada, semelhante à uma tabela.\n"
      ],
      "metadata": {
        "id": "rCAQx249GYvA"
      }
    },
    {
      "cell_type": "code",
      "source": [
        "cafezinho = {\n",
        "    \"tipo\": \"especial\",\n",
        "    \"qtd_de_cafe\": 70,\n",
        "    \"qtd_agua\": 1000,\n",
        "    \"temperatura_agua\": 96\n",
        "}"
      ],
      "metadata": {
        "id": "szZhIy4CHePm"
      },
      "execution_count": null,
      "outputs": []
    },
    {
      "cell_type": "markdown",
      "source": [
        "Através do dicionário construído, é possível recuperar várias informações sobre o `cafezinho` utilizando apenas as chaves correspondentes."
      ],
      "metadata": {
        "id": "54z3-pxjHvKj"
      }
    },
    {
      "cell_type": "code",
      "source": [
        "print(f\"\"\"\n",
        "O café que vamos fazer é {cafezinho[\"tipo\"]}.\n",
        "Para passarmos {cafezinho[\"qtd_de_cafe\"]}g de café, precisamos de {cafezinho[\"qtd_agua\"]}ml de água.\n",
        "E, para garantir que vamos extrair todo o sabor do café, sem deixá-lo amargo, a água deve estar a {cafezinho[\"temperatura_agua\"]}ºC.\n",
        "\"\"\")"
      ],
      "metadata": {
        "colab": {
          "base_uri": "https://localhost:8080/"
        },
        "id": "EWmCUXI4H3Uy",
        "outputId": "fa7cc7c7-a500-4293-e2d4-d406804724d6"
      },
      "execution_count": null,
      "outputs": [
        {
          "output_type": "stream",
          "name": "stdout",
          "text": [
            "\n",
            "O café que vamos fazer é especial.\n",
            "Para passarmos 70g de café, precisamos de 1000ml de água.\n",
            "E, para garantir que vamos extrair todo o sabor do café, sem deixá-lo amargo, a água deve estar a 96ºC.\n",
            "\n"
          ]
        }
      ]
    },
    {
      "cell_type": "markdown",
      "source": [
        "### **Tabelas**\n",
        "Como apresentamos anteriormente, o Python não possui, de maneira nativa, a implementação de tabelas. Porém, podemos construí-las utilizando bibliotecas como o `pandas`.  \n",
        "Outra coisa interessante é que podemos transformar os dicionários em tabelas, o que facilita bastante a nossa vida. E uma boa forma de fazer isso é criando dicionários onde cada chave possui uma lista como valor. Assim, temos a estrutura de uma coluna de tabela, onde a chave é o nome da coluna e a lista são os valores.\n",
        "\n",
        "Vejamos abaixo como criamos tabelas usando o `pandas`.\n"
      ],
      "metadata": {
        "id": "DM8LYmfJItvD"
      }
    },
    {
      "cell_type": "code",
      "source": [
        "# Primeiro, vamos instalar a biblioteca pandas - esse é o espaço para vocês praticarem\n",
        "!pip install pandas"
      ],
      "metadata": {
        "id": "4A-DD0mzL_vN",
        "colab": {
          "base_uri": "https://localhost:8080/"
        },
        "outputId": "7fad5695-1c24-45c6-e885-65079ef950da"
      },
      "execution_count": null,
      "outputs": [
        {
          "output_type": "stream",
          "name": "stdout",
          "text": [
            "Requirement already satisfied: pandas in /usr/local/lib/python3.11/dist-packages (2.2.2)\n",
            "Requirement already satisfied: numpy>=1.23.2 in /usr/local/lib/python3.11/dist-packages (from pandas) (2.0.2)\n",
            "Requirement already satisfied: python-dateutil>=2.8.2 in /usr/local/lib/python3.11/dist-packages (from pandas) (2.9.0.post0)\n",
            "Requirement already satisfied: pytz>=2020.1 in /usr/local/lib/python3.11/dist-packages (from pandas) (2025.2)\n",
            "Requirement already satisfied: tzdata>=2022.7 in /usr/local/lib/python3.11/dist-packages (from pandas) (2025.2)\n",
            "Requirement already satisfied: six>=1.5 in /usr/local/lib/python3.11/dist-packages (from python-dateutil>=2.8.2->pandas) (1.17.0)\n"
          ]
        }
      ]
    },
    {
      "cell_type": "code",
      "source": [
        "# Agora, façam a importação\n",
        "import pandas\n",
        "\n",
        "dicionario_cafezinho = {\n",
        "    \"tipo\": [\"especial\", \"espresso\"],\n",
        "    \"qtd_cafe\": [70, 15],\n",
        "    \"qtd_agua\": [1000, 50],\n",
        "    \"temperatura_agua\": [96, 95]\n",
        "}\n",
        "\n",
        "pandas.DataFrame(dicionario_cafezinho)"
      ],
      "metadata": {
        "colab": {
          "base_uri": "https://localhost:8080/",
          "height": 112
        },
        "id": "FPcu6YDdJeuI",
        "outputId": "4b0a608f-edc5-46d6-df06-d9c6b558509f"
      },
      "execution_count": null,
      "outputs": [
        {
          "output_type": "execute_result",
          "data": {
            "text/plain": [
              "       tipo  qtd_cafe  qtd_agua  temperatura_agua\n",
              "0  especial        70      1000                96\n",
              "1  espresso        15        50                95"
            ],
            "text/html": [
              "\n",
              "  <div id=\"df-e38933a7-026c-486e-85b5-82aa45f03a7f\" class=\"colab-df-container\">\n",
              "    <div>\n",
              "<style scoped>\n",
              "    .dataframe tbody tr th:only-of-type {\n",
              "        vertical-align: middle;\n",
              "    }\n",
              "\n",
              "    .dataframe tbody tr th {\n",
              "        vertical-align: top;\n",
              "    }\n",
              "\n",
              "    .dataframe thead th {\n",
              "        text-align: right;\n",
              "    }\n",
              "</style>\n",
              "<table border=\"1\" class=\"dataframe\">\n",
              "  <thead>\n",
              "    <tr style=\"text-align: right;\">\n",
              "      <th></th>\n",
              "      <th>tipo</th>\n",
              "      <th>qtd_cafe</th>\n",
              "      <th>qtd_agua</th>\n",
              "      <th>temperatura_agua</th>\n",
              "    </tr>\n",
              "  </thead>\n",
              "  <tbody>\n",
              "    <tr>\n",
              "      <th>0</th>\n",
              "      <td>especial</td>\n",
              "      <td>70</td>\n",
              "      <td>1000</td>\n",
              "      <td>96</td>\n",
              "    </tr>\n",
              "    <tr>\n",
              "      <th>1</th>\n",
              "      <td>espresso</td>\n",
              "      <td>15</td>\n",
              "      <td>50</td>\n",
              "      <td>95</td>\n",
              "    </tr>\n",
              "  </tbody>\n",
              "</table>\n",
              "</div>\n",
              "    <div class=\"colab-df-buttons\">\n",
              "\n",
              "  <div class=\"colab-df-container\">\n",
              "    <button class=\"colab-df-convert\" onclick=\"convertToInteractive('df-e38933a7-026c-486e-85b5-82aa45f03a7f')\"\n",
              "            title=\"Convert this dataframe to an interactive table.\"\n",
              "            style=\"display:none;\">\n",
              "\n",
              "  <svg xmlns=\"http://www.w3.org/2000/svg\" height=\"24px\" viewBox=\"0 -960 960 960\">\n",
              "    <path d=\"M120-120v-720h720v720H120Zm60-500h600v-160H180v160Zm220 220h160v-160H400v160Zm0 220h160v-160H400v160ZM180-400h160v-160H180v160Zm440 0h160v-160H620v160ZM180-180h160v-160H180v160Zm440 0h160v-160H620v160Z\"/>\n",
              "  </svg>\n",
              "    </button>\n",
              "\n",
              "  <style>\n",
              "    .colab-df-container {\n",
              "      display:flex;\n",
              "      gap: 12px;\n",
              "    }\n",
              "\n",
              "    .colab-df-convert {\n",
              "      background-color: #E8F0FE;\n",
              "      border: none;\n",
              "      border-radius: 50%;\n",
              "      cursor: pointer;\n",
              "      display: none;\n",
              "      fill: #1967D2;\n",
              "      height: 32px;\n",
              "      padding: 0 0 0 0;\n",
              "      width: 32px;\n",
              "    }\n",
              "\n",
              "    .colab-df-convert:hover {\n",
              "      background-color: #E2EBFA;\n",
              "      box-shadow: 0px 1px 2px rgba(60, 64, 67, 0.3), 0px 1px 3px 1px rgba(60, 64, 67, 0.15);\n",
              "      fill: #174EA6;\n",
              "    }\n",
              "\n",
              "    .colab-df-buttons div {\n",
              "      margin-bottom: 4px;\n",
              "    }\n",
              "\n",
              "    [theme=dark] .colab-df-convert {\n",
              "      background-color: #3B4455;\n",
              "      fill: #D2E3FC;\n",
              "    }\n",
              "\n",
              "    [theme=dark] .colab-df-convert:hover {\n",
              "      background-color: #434B5C;\n",
              "      box-shadow: 0px 1px 3px 1px rgba(0, 0, 0, 0.15);\n",
              "      filter: drop-shadow(0px 1px 2px rgba(0, 0, 0, 0.3));\n",
              "      fill: #FFFFFF;\n",
              "    }\n",
              "  </style>\n",
              "\n",
              "    <script>\n",
              "      const buttonEl =\n",
              "        document.querySelector('#df-e38933a7-026c-486e-85b5-82aa45f03a7f button.colab-df-convert');\n",
              "      buttonEl.style.display =\n",
              "        google.colab.kernel.accessAllowed ? 'block' : 'none';\n",
              "\n",
              "      async function convertToInteractive(key) {\n",
              "        const element = document.querySelector('#df-e38933a7-026c-486e-85b5-82aa45f03a7f');\n",
              "        const dataTable =\n",
              "          await google.colab.kernel.invokeFunction('convertToInteractive',\n",
              "                                                    [key], {});\n",
              "        if (!dataTable) return;\n",
              "\n",
              "        const docLinkHtml = 'Like what you see? Visit the ' +\n",
              "          '<a target=\"_blank\" href=https://colab.research.google.com/notebooks/data_table.ipynb>data table notebook</a>'\n",
              "          + ' to learn more about interactive tables.';\n",
              "        element.innerHTML = '';\n",
              "        dataTable['output_type'] = 'display_data';\n",
              "        await google.colab.output.renderOutput(dataTable, element);\n",
              "        const docLink = document.createElement('div');\n",
              "        docLink.innerHTML = docLinkHtml;\n",
              "        element.appendChild(docLink);\n",
              "      }\n",
              "    </script>\n",
              "  </div>\n",
              "\n",
              "\n",
              "    <div id=\"df-19b1960a-3f9a-4e7c-8a49-20a93442e186\">\n",
              "      <button class=\"colab-df-quickchart\" onclick=\"quickchart('df-19b1960a-3f9a-4e7c-8a49-20a93442e186')\"\n",
              "                title=\"Suggest charts\"\n",
              "                style=\"display:none;\">\n",
              "\n",
              "<svg xmlns=\"http://www.w3.org/2000/svg\" height=\"24px\"viewBox=\"0 0 24 24\"\n",
              "     width=\"24px\">\n",
              "    <g>\n",
              "        <path d=\"M19 3H5c-1.1 0-2 .9-2 2v14c0 1.1.9 2 2 2h14c1.1 0 2-.9 2-2V5c0-1.1-.9-2-2-2zM9 17H7v-7h2v7zm4 0h-2V7h2v10zm4 0h-2v-4h2v4z\"/>\n",
              "    </g>\n",
              "</svg>\n",
              "      </button>\n",
              "\n",
              "<style>\n",
              "  .colab-df-quickchart {\n",
              "      --bg-color: #E8F0FE;\n",
              "      --fill-color: #1967D2;\n",
              "      --hover-bg-color: #E2EBFA;\n",
              "      --hover-fill-color: #174EA6;\n",
              "      --disabled-fill-color: #AAA;\n",
              "      --disabled-bg-color: #DDD;\n",
              "  }\n",
              "\n",
              "  [theme=dark] .colab-df-quickchart {\n",
              "      --bg-color: #3B4455;\n",
              "      --fill-color: #D2E3FC;\n",
              "      --hover-bg-color: #434B5C;\n",
              "      --hover-fill-color: #FFFFFF;\n",
              "      --disabled-bg-color: #3B4455;\n",
              "      --disabled-fill-color: #666;\n",
              "  }\n",
              "\n",
              "  .colab-df-quickchart {\n",
              "    background-color: var(--bg-color);\n",
              "    border: none;\n",
              "    border-radius: 50%;\n",
              "    cursor: pointer;\n",
              "    display: none;\n",
              "    fill: var(--fill-color);\n",
              "    height: 32px;\n",
              "    padding: 0;\n",
              "    width: 32px;\n",
              "  }\n",
              "\n",
              "  .colab-df-quickchart:hover {\n",
              "    background-color: var(--hover-bg-color);\n",
              "    box-shadow: 0 1px 2px rgba(60, 64, 67, 0.3), 0 1px 3px 1px rgba(60, 64, 67, 0.15);\n",
              "    fill: var(--button-hover-fill-color);\n",
              "  }\n",
              "\n",
              "  .colab-df-quickchart-complete:disabled,\n",
              "  .colab-df-quickchart-complete:disabled:hover {\n",
              "    background-color: var(--disabled-bg-color);\n",
              "    fill: var(--disabled-fill-color);\n",
              "    box-shadow: none;\n",
              "  }\n",
              "\n",
              "  .colab-df-spinner {\n",
              "    border: 2px solid var(--fill-color);\n",
              "    border-color: transparent;\n",
              "    border-bottom-color: var(--fill-color);\n",
              "    animation:\n",
              "      spin 1s steps(1) infinite;\n",
              "  }\n",
              "\n",
              "  @keyframes spin {\n",
              "    0% {\n",
              "      border-color: transparent;\n",
              "      border-bottom-color: var(--fill-color);\n",
              "      border-left-color: var(--fill-color);\n",
              "    }\n",
              "    20% {\n",
              "      border-color: transparent;\n",
              "      border-left-color: var(--fill-color);\n",
              "      border-top-color: var(--fill-color);\n",
              "    }\n",
              "    30% {\n",
              "      border-color: transparent;\n",
              "      border-left-color: var(--fill-color);\n",
              "      border-top-color: var(--fill-color);\n",
              "      border-right-color: var(--fill-color);\n",
              "    }\n",
              "    40% {\n",
              "      border-color: transparent;\n",
              "      border-right-color: var(--fill-color);\n",
              "      border-top-color: var(--fill-color);\n",
              "    }\n",
              "    60% {\n",
              "      border-color: transparent;\n",
              "      border-right-color: var(--fill-color);\n",
              "    }\n",
              "    80% {\n",
              "      border-color: transparent;\n",
              "      border-right-color: var(--fill-color);\n",
              "      border-bottom-color: var(--fill-color);\n",
              "    }\n",
              "    90% {\n",
              "      border-color: transparent;\n",
              "      border-bottom-color: var(--fill-color);\n",
              "    }\n",
              "  }\n",
              "</style>\n",
              "\n",
              "      <script>\n",
              "        async function quickchart(key) {\n",
              "          const quickchartButtonEl =\n",
              "            document.querySelector('#' + key + ' button');\n",
              "          quickchartButtonEl.disabled = true;  // To prevent multiple clicks.\n",
              "          quickchartButtonEl.classList.add('colab-df-spinner');\n",
              "          try {\n",
              "            const charts = await google.colab.kernel.invokeFunction(\n",
              "                'suggestCharts', [key], {});\n",
              "          } catch (error) {\n",
              "            console.error('Error during call to suggestCharts:', error);\n",
              "          }\n",
              "          quickchartButtonEl.classList.remove('colab-df-spinner');\n",
              "          quickchartButtonEl.classList.add('colab-df-quickchart-complete');\n",
              "        }\n",
              "        (() => {\n",
              "          let quickchartButtonEl =\n",
              "            document.querySelector('#df-19b1960a-3f9a-4e7c-8a49-20a93442e186 button');\n",
              "          quickchartButtonEl.style.display =\n",
              "            google.colab.kernel.accessAllowed ? 'block' : 'none';\n",
              "        })();\n",
              "      </script>\n",
              "    </div>\n",
              "\n",
              "    </div>\n",
              "  </div>\n"
            ],
            "application/vnd.google.colaboratory.intrinsic+json": {
              "type": "dataframe",
              "summary": "{\n  \"name\": \"pandas\",\n  \"rows\": 2,\n  \"fields\": [\n    {\n      \"column\": \"tipo\",\n      \"properties\": {\n        \"dtype\": \"string\",\n        \"num_unique_values\": 2,\n        \"samples\": [\n          \"espresso\",\n          \"especial\"\n        ],\n        \"semantic_type\": \"\",\n        \"description\": \"\"\n      }\n    },\n    {\n      \"column\": \"qtd_cafe\",\n      \"properties\": {\n        \"dtype\": \"number\",\n        \"std\": 38,\n        \"min\": 15,\n        \"max\": 70,\n        \"num_unique_values\": 2,\n        \"samples\": [\n          15,\n          70\n        ],\n        \"semantic_type\": \"\",\n        \"description\": \"\"\n      }\n    },\n    {\n      \"column\": \"qtd_agua\",\n      \"properties\": {\n        \"dtype\": \"number\",\n        \"std\": 671,\n        \"min\": 50,\n        \"max\": 1000,\n        \"num_unique_values\": 2,\n        \"samples\": [\n          50,\n          1000\n        ],\n        \"semantic_type\": \"\",\n        \"description\": \"\"\n      }\n    },\n    {\n      \"column\": \"temperatura_agua\",\n      \"properties\": {\n        \"dtype\": \"number\",\n        \"std\": 0,\n        \"min\": 95,\n        \"max\": 96,\n        \"num_unique_values\": 2,\n        \"samples\": [\n          95,\n          96\n        ],\n        \"semantic_type\": \"\",\n        \"description\": \"\"\n      }\n    }\n  ]\n}"
            }
          },
          "metadata": {},
          "execution_count": 26
        }
      ]
    },
    {
      "cell_type": "markdown",
      "source": [
        "#### **Entendendo a criação da tabela**\n",
        "Para a biblioteca `pandas`, a tabela é representada através de uma estrutura específica, chamada `DataFrame` (de forma literal, é um quadro de dados).\n",
        "\n",
        "Então, o que aconteceu na criação dessa tabela foi o seguinte:\n",
        "1. Incrementamos o nosso dicionário sobre cafézinhos, acrescentando outro tipo de café e os valores para cada linha do dicionário;\n",
        "2. Importamos a função `DataFrame` da biblioteca `pandas` e inserimos o nosso `dicionario_cafezinho` como variável de entrada;\n",
        "3. Nessa operação, o `pandas` transformou o dicionário em um quadro de dados, e exibiu ele, numa estrutura que é visualmente igual a uma tabela."
      ],
      "metadata": {
        "id": "x176NrfJKWBW"
      }
    },
    {
      "cell_type": "markdown",
      "source": [
        "## **Próximos passos**\n",
        "Nesse Notebook, apresentamos brevemente a linguagem de programação Python, trazendo as implementações dos conceitos vistos até aqui.\n",
        "A assimilação de todo esse conteúdo exige tempo, dedicação e leitura, então os notebooks do curso servem não só para o momento síncrono, como também de material de consulta.\n",
        "\n",
        "No próximo módulo, vamos adentrar na **organização e pré-processamento de dados**, trazendo boas práticas de tabulação, apresentando princípios de organização e aplicações em Python, mostrando como limpar, transformar e salvar os nossos dados.\n"
      ],
      "metadata": {
        "id": "0Y-PTV-JNGOV"
      }
    },
    {
      "cell_type": "markdown",
      "source": [
        "---\n",
        "<p align=\"left\">\n",
        "    <small>\n",
        "    <strong>Ciência de Dados para Pesquisa </strong></br>\n",
        "    <I> Módulo 1 - Introdução à ciência de dados e Python </I>\n",
        "    </small>\n",
        "</p>"
      ],
      "metadata": {
        "id": "8vXInP-rsL2X"
      }
    }
  ]
}