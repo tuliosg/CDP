{
  "nbformat": 4,
  "nbformat_minor": 0,
  "metadata": {
    "colab": {
      "provenance": []
    },
    "kernelspec": {
      "name": "python3",
      "display_name": "Python 3"
    },
    "language_info": {
      "name": "python"
    }
  },
  "cells": [
    {
      "cell_type": "markdown",
      "source": [
        "# **Introdução ao Google Colab**\n",
        "A partir de agora, este será nosso ambiente de trabalho, o Google Colaboratory. Comumente chamado de Colab, é um serviço da Google que permite a criação de Jupyter Notebooks sem a necessidade de configurações para uso e sem custos.  \n",
        "> *O que são **Juypter Notebooks**[¹]?*    \n",
        ">\n",
        "> São ambientes web de programação interativa estruturados em células, permitindo a inserção de código, texto, gráficos e imagens. O principal componente interacional do notebook é a execução dos blocos de código de maneira indepentende. Além disso, por conta dos blocos de texto (e outros recursos visuais), é muito mais fácil apresentar e explicar os códigos desenvolvidos.\n",
        "\n",
        "[¹]: https://docs.jupyter.org/en/latest/#what-is-a-notebook\n"
      ],
      "metadata": {
        "id": "PU7N2zK6r0RJ"
      }
    },
    {
      "cell_type": "markdown",
      "source": [
        "## **Conhecendo a estrutura**\n",
        "Vamos começar a entender e explorar a estrutura do Google Colab. A ordem de apresentação será de acordo com a necessidade de utilização dos recursos.\n",
        "\n"
      ],
      "metadata": {
        "id": "AHMGQRdUkLZr"
      }
    },
    {
      "cell_type": "markdown",
      "source": [
        "### **Conectando o ambiente**\n",
        "O Colab funciona como se fosse uma ponte entre o nosso computador e uma máquina que fica na nuvem. Então, através dele, conseguimos usar essa máquina virtual sem fazer o nosso próprio computador se esforçar.  \n",
        "Para \"ligar\" essa máquina virtual, precisamos fazer uma conexão entre esse ambiente e o Google. O ambiente pode ser conectado de duas formas:\n",
        "1. Através do botão \"**Conectar**\", presente na barra de tarefas do colab.\n",
        " > O botão fica no canto superior direito, próximo à sua foto do Google.\n",
        "\n",
        "2. No botão de \"**play**\" de uma das células de código.\n",
        " > Passe o mouse na célula abaixo e um botão de \"play\" aparecerá no canto esquerdo¹.  \n",
        "\n",
        "Quando o ambiente está conectado, o símbolo ✅ aparece tanto no local do botão \"Conectar\", quanto no rodapé da página.\n",
        "\n",
        "---\n",
        "\n",
        "<small>¹ *Mesmo que já tenham conectado o ambiente pelo primeiro método, executem a célula de código.* </small>"
      ],
      "metadata": {
        "id": "C2vn4yJksXmu"
      }
    },
    {
      "cell_type": "code",
      "execution_count": null,
      "metadata": {
        "id": "38mA7msjrN2B",
        "colab": {
          "base_uri": "https://localhost:8080/"
        },
        "outputId": "01d70eb3-f7f2-423e-dc62-d9530cfd7b44"
      },
      "outputs": [
        {
          "output_type": "stream",
          "name": "stdout",
          "text": [
            "Ambiente conectado com sucesso!\n"
          ]
        }
      ],
      "source": [
        "print(\"Ambiente conectado com sucesso!\")"
      ]
    },
    {
      "cell_type": "markdown",
      "source": [
        "### **Executando códigos**\n",
        "A execução de códigos no Colab segue sempre o mesmo passo visto anteriormente, **clicar no botão de \"play\"** das células.  \n",
        "\n",
        "Existe também uma forma de **executar todo o notebook** de uma só vez, ou seja, executar todos os blocos de código. Para isso:\n",
        "1. Acesse a aba \"**Ambiente de execução**\" na barra de tarefas;\n",
        "2. Clique em \"**Executar tudo**\"."
      ],
      "metadata": {
        "id": "EyZHK6g1nDLV"
      }
    },
    {
      "cell_type": "code",
      "source": [
        "print(\"Código executado.\")"
      ],
      "metadata": {
        "id": "CsGr1uuAv5AY",
        "colab": {
          "base_uri": "https://localhost:8080/"
        },
        "outputId": "00a1184b-e66c-43c1-b0f2-aa75fcc805b7"
      },
      "execution_count": null,
      "outputs": [
        {
          "output_type": "stream",
          "name": "stdout",
          "text": [
            "Código executado.\n"
          ]
        }
      ]
    },
    {
      "cell_type": "markdown",
      "source": [
        "Sempre que um código for executado com sucesso, o símbolo ✅ também aparecerá no canto esquerdo da célula correspondente — no mesmo local onde fica o botão de play."
      ],
      "metadata": {
        "id": "7Nn_MvEg_F_m"
      }
    },
    {
      "cell_type": "markdown",
      "source": [
        "### **Escrevendo textos**\n",
        "A escrita em blocos de texto é feita através do Markdown, uma linguagem de marcação que permite formatarmos o texto mais facilmente. Mas não se preocupem, pois as células de texto do Colab possuem alguns comandos — semelhantes ao Google Docs ou o Word — que facilitam a formatação dos textos.  \n",
        "\n",
        "Para escrever no Colab é bem simples:\n",
        "* Basta ir até a barra de tarefas e clicar em \"**+ Texto**\" ou passar o mouse entre duas células que aparecerão duas opções, uma para texto e outra para código.\n",
        "\n",
        "O bloco a seguir exibe algumas das possibilidades de formatação de texto."
      ],
      "metadata": {
        "id": "rsOX0vs17_sW"
      }
    },
    {
      "cell_type": "markdown",
      "source": [
        "# Título\n",
        "A gente pode escrever `qualquer coisa`.\n",
        "\n",
        "\n",
        "> Citação\n",
        "\n"
      ],
      "metadata": {
        "id": "07GtsHYjBD5d"
      }
    },
    {
      "cell_type": "markdown",
      "source": [
        "```\n",
        "# Títulos\n",
        "## Subtítulos\n",
        "### E por aí vai\n",
        "\n",
        "Temos também:\n",
        "* **texto em negrito**\n",
        "* *texto em itálico*\n",
        "* `texto em formato de código (monoespaçado)`\n",
        "* inserção de [link](https://colab.google)\n",
        "\n",
        "> Citações também são bem-vindas\n",
        "```"
      ],
      "metadata": {
        "id": "3hH12X00q4WU"
      }
    },
    {
      "cell_type": "markdown",
      "source": [
        "### **Trabalhando com arquivos**\n",
        "No próximo módulo trabalharemos com algumas planilhas que serão armazenadas aqui no ambiente do Colab. Esses arquivos que fazem parte do ambiente de trabalho podem ser encontrados no menu à esquerda.  \n",
        "\n",
        "No menu, há um ícone de pasta (📁), e clicando nele é possível ver todos os arquivos que fazem parte da sessão atual. Como não fizemos o uploado de nada, só aparecerá a pasta \"sample_data\" que contêm alguns dados de exemplo do próprio Google Colab.\n",
        "\n",
        "Essa apresentação dos arquivos foi apenas uma introdução para vocês conhecerem. Nas próximas etapas, abordaremos como utilizar essa função para inserirmos os dados e trabalharmos com eles."
      ],
      "metadata": {
        "id": "I5-pe-nSusTa"
      }
    },
    {
      "cell_type": "markdown",
      "source": [
        "## **Hora de praticar**\n",
        "Agora que o Google Colab foi brevemente apresentado, é a hora de partir para a prática.\n",
        "O próximo uso desse ambiente será com exemplos de código para assimilarmos o conteúdo visto até aqui."
      ],
      "metadata": {
        "id": "_1nxBMBZww4y"
      }
    },
    {
      "cell_type": "markdown",
      "source": [
        "---\n",
        "<p align=\"left\">\n",
        "    <small>\n",
        "    <strong>Ciência de Dados para Pesquisa </strong></br>\n",
        "    <I> Módulo 1 - Introdução à ciência de dados e Python </I>\n",
        "    </small>\n",
        "</p>"
      ],
      "metadata": {
        "id": "j-kO7Rlv1bS3"
      }
    }
  ]
}