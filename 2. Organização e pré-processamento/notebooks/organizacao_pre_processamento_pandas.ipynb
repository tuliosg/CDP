{
  "nbformat": 4,
  "nbformat_minor": 0,
  "metadata": {
    "colab": {
      "provenance": []
    },
    "kernelspec": {
      "name": "python3",
      "display_name": "Python 3"
    },
    "language_info": {
      "name": "python"
    }
  },
  "cells": [
    {
      "cell_type": "markdown",
      "source": [
        "# **Organização e pré-processamento com _pandas_**"
      ],
      "metadata": {
        "id": "KmAI9HasNgs6"
      }
    },
    {
      "cell_type": "markdown",
      "source": [
        "Na última aula, vimos os princípios de organização de dados. Entendemos como devemos estruturar, organizar, exportar, salvar e cuidar de planilhas. Mas e quando recebemos uma planilha já pronta, o que fazer?\n",
        "\n",
        "Bom, é para isso que serve a aula de hoje! Hoje nós vamos entender como agilizar esse processo de organização de dados através da programação. Mais especificamente, vamos entender como aplicamos os princípios de organização de dados usando o `pandas`, uma biblioteca para manipulação, organização e pré-processamento de dados."
      ],
      "metadata": {
        "id": "-tkJ3s2jCFjF"
      }
    },
    {
      "cell_type": "markdown",
      "source": [
        "## **💡 Adicionando arquivos no Colab**"
      ],
      "metadata": {
        "id": "xEhjvSaFEINn"
      }
    },
    {
      "cell_type": "markdown",
      "source": [
        "Como vimos na nossa primeira prática com o Colab, é possível adicionarmos arquivos no ambiente para utilizá-los. Para adicionar um novo arquivo vamos seguir os passos abaixo:\n",
        "\n",
        "1. Acessaremos a área de arquivos clicando no símbolo de pasta 📁, no menu lateral esquerdo;\n",
        "\n",
        "2. Na área de arquivos, vamos clicar no ícone de upload 📤 (o primeiro à esquerda);\n",
        "\n",
        "3. Na a tela de exploração de arquivos que será aberta, vamos selecionar o arquivo desejado;\n",
        "\n",
        "4. Finalizado o upload, ele deve aparecer na área de arquivos."
      ],
      "metadata": {
        "id": "CYXr55XYES-a"
      }
    },
    {
      "cell_type": "markdown",
      "source": [
        "## **Abrindo os arquivos de dados**\n",
        "\n"
      ],
      "metadata": {
        "id": "_Qc4tSNEG_zD"
      }
    },
    {
      "cell_type": "markdown",
      "source": [
        "### **Importando o pandas**"
      ],
      "metadata": {
        "id": "6TEJ-t9GNm5y"
      }
    },
    {
      "cell_type": "markdown",
      "source": [
        "Para que possamos acessar e mexer nos nossos arquivos de dados, utilizaremos a biblioteca `pandas`.\n",
        "\n",
        "Então, lembrando da nossa última aula com o Colab, temos que importá-la antes de usar."
      ],
      "metadata": {
        "id": "W1cjzGbsIPUy"
      }
    },
    {
      "cell_type": "code",
      "source": [
        "#Não precisamos instalar o pandas porque é nativo do colab\n",
        "import pandas as pd"
      ],
      "metadata": {
        "id": "7XGxSH3YHQpG"
      },
      "execution_count": null,
      "outputs": []
    },
    {
      "cell_type": "markdown",
      "source": [
        "Dessa vez, temos dois novos componentes na nossa importação: `as pd`.  \n",
        "Destrinchando o código:\n",
        "\n",
        "\n",
        "```python\n",
        "traga a biblioteca pandas com o apelido de pd\n",
        "------- ----------------- ---------------- --\n",
        "import       pandas            as          pd\n",
        "```\n",
        "\n",
        "Assim, conseguimos reduzir o nome da biblioteca para não ficarmos o tempo todo escrevendo `pandas.função`, podendo trocar por `pd.função`.\n"
      ],
      "metadata": {
        "id": "DSVDClXaHWJM"
      }
    },
    {
      "cell_type": "markdown",
      "source": [
        "### **Lendo o arquivo**"
      ],
      "metadata": {
        "id": "mY-39ZZhNrBi"
      }
    },
    {
      "cell_type": "markdown",
      "source": [
        "A forma de ler o nosso arquivo com o `pandas` é através da função `read_csv` — pois o formato dele é *csv*. Então, vamos passar o endereço do nosso arquivo para a função e guardar os dados em uma variável para podermos acessar depois.\n",
        "\n",
        "Para encontrar o endereço do arquivo:\n",
        "1. Abram a aba de arquivos;\n",
        "2. Cliquem com o botão direito no arquivo (ou cliquem nos 3 pontinhos que aparecem no canto direito do arquivo);\n",
        "3. Cliquem em \"Copiar caminho\";\n",
        "4. Colem esse caminho dentro do parênteses após `read_csv`. E lembrem de colocar entre aspas!"
      ],
      "metadata": {
        "id": "uwopP-MdIlLD"
      }
    },
    {
      "cell_type": "code",
      "source": [
        "dados_biblioteca = pd.read_csv('/content/Catálogo de livros da biblioteca.csv')"
      ],
      "metadata": {
        "id": "zFt-7x7AG1rh"
      },
      "execution_count": null,
      "outputs": []
    },
    {
      "cell_type": "markdown",
      "source": [
        "Caso fôssemos trabalhar com arquivos do Excel — no formato *.xlsx* —, o comando de leitura seria:\n",
        "\n",
        "\n",
        "```python\n",
        "dados_biblioteca = pd.read_excel('nome_do_arquivo.xlsx')\n",
        "```"
      ],
      "metadata": {
        "id": "Yxsz6WwsI-d5"
      }
    },
    {
      "cell_type": "markdown",
      "source": [
        "### **Exibindo os dados**"
      ],
      "metadata": {
        "id": "fnJNoKGvgn_S"
      }
    },
    {
      "cell_type": "markdown",
      "source": [
        "É sempre importante conferirmos se os dados foram carregados corretamente e também dar uma olhada na sua estrutura — como os dados estão distribuídos e ter uma ideia do que encontraremos ao explorar o conjunto.\n",
        "\n",
        "Abaixo, temos a função `head()`. Como o próprio nome indica, vamos exibir a \"cabeça\" dos nossos dados — por padrão, essa função exibe **as primeiras 5 linhas** do conjunto."
      ],
      "metadata": {
        "id": "xLCAN1fOgvtK"
      }
    },
    {
      "cell_type": "code",
      "source": [
        "dados_biblioteca.head()"
      ],
      "metadata": {
        "id": "MIvfj_K5J7xz"
      },
      "execution_count": null,
      "outputs": []
    },
    {
      "cell_type": "markdown",
      "source": [
        "Vocês devem ter percebido que a função foi chamada através da nossa variável `dados_biblioteca`. Por quê?  \n",
        "> O que acontece quando lemos um arquivo de dados com o `pandas` é que **transformamos o nosso arquivo em um DataFrame** (o quadro de dados). E essa estrutura permite que façamos operações com ela, ou seja, temos uma série de funcionalidades que podemos usar nos nossos dados. Assim, vai ser comum vermos operações no formato `dados_biblioteca.operacao`."
      ],
      "metadata": {
        "id": "YU7M9AgahVFT"
      }
    },
    {
      "cell_type": "markdown",
      "source": [
        "## **Princípios de organização de dados com pandas**\n",
        "Quando implementamos os princípios de organização de dados, estamos fazendo também uma etapa chamada \"pré-processamento\". Essa etapa trata da verificação dos dados, para garantir consistência e uma boa estrutura antes de fazermos análises."
      ],
      "metadata": {
        "id": "-QVoT1JeLA5w"
      }
    },
    {
      "cell_type": "markdown",
      "source": [
        "### **Visualizando as informações sobre os dados**\n",
        "Começando pelo começo, vamos entender quais variáveis estão presentes no conjunto. Para isso, vamos usar a função `info()`. Como o próprio nome já indica, estamos puxando as informações."
      ],
      "metadata": {
        "id": "jFG1PVYxiXJl"
      }
    },
    {
      "cell_type": "code",
      "source": [
        "dados_biblioteca.info()"
      ],
      "metadata": {
        "id": "1Ftpo0TJiqSi"
      },
      "execution_count": null,
      "outputs": []
    },
    {
      "cell_type": "markdown",
      "source": [
        "Entendendo a saída do código:\n",
        "* Na primeira linha, temos a indicação de que essa variável é uma estrutura do tipo Data Frame: `<class 'pandas.core.frame.DataFrame'>`;\n",
        "* Logo depois, temos o intervalo dos nossos dados — a quantidade de linhas. Podemos ver que a planilha tem 10 entradas — `10 entries` —, e possuem o índice de 0 até 9;\n",
        "* Na sequência está o número de colunas, que são 6: `(total 6 columns)`;\n",
        "* Chegamos à tabela com as informações:\n",
        "  * A `#` apresenta o índice da coluna, ou seja, temos colunas na posição 0, 1, 2, 3, 4 e 5;\n",
        "  * `Columns` traz as nomenclaturas das colunas — os rótulos das variáveis. Vemos que nessa planilha são: `Título do livro`, ` Autor`, `categoria`, `Data Aquisição`, `Exemplares` e `Prateleira`;\n",
        "  * `Non-Null Count` traz informações sobre o número de informações não-nulas presentes nos dados — ela conta, em todas as colunas, quantas das células tem ou não informação faltando. Nessa planilha, vemos que há informações faltando nas colunas `Autor` e `Exemplares`;\n",
        "  * `Dtype` trata do tipo de dado encontrado naquela coluna — no `pandas`, os tipos de dados são apresentados de forma diferente, porém, `object` indica, basicamente, que na coluna foi encontrado um mix de dados.\n",
        "\n"
      ],
      "metadata": {
        "id": "9wJPB0hgiv2P"
      }
    },
    {
      "cell_type": "markdown",
      "source": [
        "### **Ajustando o cabeçalho**\n",
        "Quando puxamos as informações sobre os dados, já conseguimos visualizar um cabeçalho mal estruturado. Temos espaços em branco, letras maíusculas e acentos. Vamos começar lembrando do 2º princípio da organização de dados: **Construa um cabeçalho limpo e descritivo**."
      ],
      "metadata": {
        "id": "F7J0rSJklIii"
      }
    },
    {
      "cell_type": "markdown",
      "source": [
        "Inicialmente, vamos ver todos os nomes das nossas colunas através da função `columns`"
      ],
      "metadata": {
        "id": "6MegFtpqr3UG"
      }
    },
    {
      "cell_type": "code",
      "source": [
        "dados_biblioteca.columns"
      ],
      "metadata": {
        "id": "WKS65B95rpf9"
      },
      "execution_count": null,
      "outputs": []
    },
    {
      "cell_type": "code",
      "source": [
        "dados_biblioteca.rename(columns={\n",
        "    'Título do livro': 'titulo_livro',\n",
        "    ' Autor ': 'autor',\n",
        "    'categoria  ': 'categoria',\n",
        "    'Data Aquisição': 'data_aquisicao',\n",
        "    'Exemplares': 'exemplares',\n",
        "    'Prateleira': 'prateleira'\n",
        "    }, inplace=True)\n",
        "\n",
        "dados_biblioteca.info()"
      ],
      "metadata": {
        "id": "6rod0Xdklrjy"
      },
      "execution_count": null,
      "outputs": []
    },
    {
      "cell_type": "markdown",
      "source": [
        "Vamos entender o que aconteceu nesse código:\n",
        "* A função `rename`, permite renomear tanto os índices das linhas (aquele índice que aparece no começo, de 0 até 9) quanto os das colunas (os rótulos);\n",
        "* Para alterarmos os rótulos das colunas, chamamos o parâmetro `columns` que diz ao pandas que estamos interessados apenas nas colunas;\n",
        "* Dentro de `columns`, temos que dizer quais colunas queremos alterar e quais serão os novos rótulos. Para isso, usamos um dicionário no formato `\"nome antigo\": \"nome_novo\"`;\n",
        "* No fim, temos a linha `inplace=True`. Ela diz ao nosso código que estamos querendo alterar os nomes das colunas diretamente no nosso arquivo original.\n",
        "\n",
        "Finalizada a renomeação, conferimos se deu tudo certo chamando mais uma vez a função `info()`"
      ],
      "metadata": {
        "id": "lKzrAmSRmq82"
      }
    },
    {
      "cell_type": "markdown",
      "source": [
        "### **Conferindo e eliminando os espaços em branco**\n"
      ],
      "metadata": {
        "id": "RvKJU99Dn25j"
      }
    },
    {
      "cell_type": "markdown",
      "source": [
        "Quando alteramos o cabeçalho, já encontramos um espaço em branco na coluna `' Autor '`, que estava com espaços antes e depois. E, além do cabeçalho, temos algumas informações que podem conter espaços assim nos nossos dados. Então, precisamos conferí-las, afinal, como é abordado nos princípios, devemos ter **cuidado com espaços em branco**."
      ],
      "metadata": {
        "id": "-CgLKk5uoCln"
      }
    },
    {
      "cell_type": "code",
      "source": [
        "for coluna in dados_biblioteca.columns:\n",
        "    display(dados_biblioteca[coluna].value_counts())"
      ],
      "metadata": {
        "id": "AeIby__noe1M"
      },
      "execution_count": null,
      "outputs": []
    },
    {
      "cell_type": "markdown",
      "source": [
        "O que fizemos nesse código:\n",
        "* Criamos um loop que vai acessar cada coluna do nosso conjunto: `for coluna in dados_biblioteca.columns`;\n",
        "* Pedimos para o `pandas` contar as frequências das observações dentro de cada coluna: `dados_biblitoeca[coluna].value_counts()`.\n",
        "\n",
        "Após a execução da função, o que vemos é uma contagem de frequências para cada uma das colunas. Isso permite que a gente verifique se há ocorrências de palavras iguais que sofreram contagens distintas (vejam na coluna `categoria`, onde \"Computação\" aparece mais de uma vez).\n",
        "\n",
        "Uma outra forma de visualizar essas ocorrências com espaço em branco, é através da função `unique`, que exibe apenas os valores únicos dentro de cada coluna.\n"
      ],
      "metadata": {
        "id": "pgUgkmARpRKL"
      }
    },
    {
      "cell_type": "code",
      "source": [
        "for coluna in dados_biblioteca.columns:\n",
        "    print(coluna, dados_biblioteca[coluna].unique())"
      ],
      "metadata": {
        "id": "IUJ5T9BwsPql"
      },
      "execution_count": null,
      "outputs": []
    },
    {
      "cell_type": "markdown",
      "source": [
        "Dessa forma, conseguimos visualizar as ocorrências com as aspas, o que facilita a visualização do espaços em branco."
      ],
      "metadata": {
        "id": "1q8hNRjGsx17"
      }
    },
    {
      "cell_type": "markdown",
      "source": [
        "Agora, **precisamos apagar esses espaços em branco**. E, para isso, o Python já tem uma função perfeita, chamada `strip()`. Essa função corta qualquer espaço em branco antes ou depois de uma palavra:  \n",
        "Por exemplo: `'  olá'` vira `'olá'`"
      ],
      "metadata": {
        "id": "FJDy8hVMs_YO"
      }
    },
    {
      "cell_type": "code",
      "source": [
        "colunas_interesse = ['autor', 'categoria']\n",
        "\n",
        "for coluna in colunas_interesse:\n",
        "    dados_biblioteca[coluna] = dados_biblioteca[coluna].str.strip()\n",
        "    print(coluna, dados_biblioteca[coluna].unique())"
      ],
      "metadata": {
        "id": "hAQnOZEnqCWc"
      },
      "execution_count": null,
      "outputs": []
    },
    {
      "cell_type": "markdown",
      "source": [
        "Nesse código, começamos definindo quais colunas são do nosso interesse — as colunas que vimos que têm espaços em branco nas suas ocorrências.\n",
        "Em seguida, percorremos essas colunas aplicando a função `strip`.\n",
        "\n",
        "O que aconteceu dentro do loop:  \n",
        "Quando escrevemos `dados_biblioteca[coluna] = dados_biblioteca[coluna].str.strip()`, estamos dizendo que a coluna do nosso conjunto vai receber os seus dados após eles serem transformados pela função `strip`.  \n",
        "No final, exibimos os dados únicos para saber se a nossa função deu certo."
      ],
      "metadata": {
        "id": "hgaTUG8LtdPR"
      }
    },
    {
      "cell_type": "markdown",
      "source": [
        "### **Padronizando as variáveis categóricas**\n",
        "Tanto executando a função `value_counts()` quanto a `unique()`, vimos que além dos espaços em branco, não havia uma padronização na coluna `categoria`.  \n",
        "Nela, encontramos uma mesma classe com letras maiúsculas e minúsculas, ou com e sem acento. Então, lembrando que devemos **adotar um padrão para variáveis categóricas**, temos que alterar essa coluna."
      ],
      "metadata": {
        "id": "JZVvtkk3uEXr"
      }
    },
    {
      "cell_type": "code",
      "source": [
        "dados_biblioteca['categoria'] = dados_biblioteca['categoria'].str.lower()\n",
        "dados_biblioteca['categoria'].value_counts()"
      ],
      "metadata": {
        "id": "jybM58P4umPi"
      },
      "execution_count": null,
      "outputs": []
    },
    {
      "cell_type": "code",
      "source": [
        "dados_biblioteca['categoria'] = dados_biblioteca['categoria'].replace(\"ciencias\", \"ciências\")\n",
        "dados_biblioteca['categoria'].value_counts()"
      ],
      "metadata": {
        "id": "XkAxKhcCvCWE"
      },
      "execution_count": null,
      "outputs": []
    },
    {
      "cell_type": "markdown",
      "source": [
        "Entendendo os códigos:\n",
        "* `dados_biblioteca['categoria'].str.lower()` transformou todas as categorias deixando-as apenas com letras minúsculas — por isso o `lower`;\n",
        "* `dados_biblioteca['categoria'].replace(\"ciencias\", \"ciências\")`: substituiu as ocorrências de \"ciencias\" (sem acento) por \"ciências\" (com acento).\n",
        "\n",
        "Usamos a função de `value_counts()` apenas para conferir se tudo foi executado do jeito que gostaríamos."
      ],
      "metadata": {
        "id": "CBamIBySvnFC"
      }
    },
    {
      "cell_type": "markdown",
      "source": [
        "### **Verificando e padronizando dados ausentes**\n",
        "Algumas das vezes que exibimos os dados, vimos uma palavra estranha: `nan`. No Python, isso significa \"not a number\" (em português, \"não é um número\"). Isso acontece devido à ausência de dados, e o `nan` é o padrão que o `pandas` adota para exibí-los."
      ],
      "metadata": {
        "id": "r59QjwkDwWuR"
      }
    },
    {
      "cell_type": "code",
      "source": [
        "dados_biblioteca.isnull().sum()"
      ],
      "metadata": {
        "id": "xeD7e1MewuSo"
      },
      "execution_count": null,
      "outputs": []
    },
    {
      "cell_type": "markdown",
      "source": [
        "Começamos conferindo quais são as colunas que possuem dados ausentes. Para isso, chamamos a função `isnull`, que indica quais as colunas têm valores ausentes, e, na sequência, chamamos a função `sum`, que soma a quantidade de ocorrências.  \n",
        "Podemos ver que nas colunas `autor` e `exemplares`, temos valores nulos."
      ],
      "metadata": {
        "id": "a4Jskuovw1w3"
      }
    },
    {
      "cell_type": "code",
      "source": [
        "dados_biblioteca['autor'] = dados_biblioteca['autor'].fillna('não catalogado')\n",
        "dados_biblioteca['autor'].unique()"
      ],
      "metadata": {
        "id": "OOwaXUZuxKQc"
      },
      "execution_count": null,
      "outputs": []
    },
    {
      "cell_type": "code",
      "source": [
        "dados_biblioteca['exemplares'].unique()"
      ],
      "metadata": {
        "id": "kEJ3tgKGxeAp"
      },
      "execution_count": null,
      "outputs": []
    },
    {
      "cell_type": "code",
      "source": [
        "dados_biblioteca['exemplares'] = dados_biblioteca['exemplares'].fillna(0)\n",
        "dados_biblioteca['exemplares'] = dados_biblioteca['exemplares'].replace('não disponível', 0)\n",
        "dados_biblioteca['exemplares'] = dados_biblioteca['exemplares'].replace('indisponível', 0)\n",
        "\n",
        "dados_biblioteca['exemplares'].unique()"
      ],
      "metadata": {
        "id": "zLjF28wexyIs"
      },
      "execution_count": null,
      "outputs": []
    },
    {
      "cell_type": "markdown",
      "source": [
        "Agora a gente fez muita coisa. Vamos entender passo a passo:\n",
        "1. Começamos alterando o valor faltante na coluna `autor` para `não catalogado`. Fizemos isso pois o livro foi escrito por alguém, só que esqueceram de catalogar;\n",
        "2. Alteramos para '0' os valores faltantes na coluna `exemplares`. Por quê?\n",
        "3. Vimos que nessa mesma coluna (`exemplares`) haviam valores não padronizados. E, como estávamos tratando de número de livros disponíveis, se eles não estão disponíveis, o número de exemplares é 0."
      ],
      "metadata": {
        "id": "Yo-HIOlAyn7L"
      }
    },
    {
      "cell_type": "markdown",
      "source": [
        "### **Ajustando o nome do arquivo e salvando**\n",
        "Nós aplicamos os princípios de organização nos nossos dados através da biblioteca `pandas`, e agora precisamos salvá-los.  \n",
        "Para isso, precisamos de um novo nome de arquivo, já que o nome anterior \"Catálogo de livros da biblioteca\" não estava dentro dos padrões, e também decidir em qual formato vamos salvá-lo."
      ],
      "metadata": {
        "id": "JZ8_b0p4zZyQ"
      }
    },
    {
      "cell_type": "code",
      "source": [
        "# Primeiro, vamos exibir como ficaram os nossos dados\n",
        "dados_biblioteca"
      ],
      "metadata": {
        "id": "FkFre4dIz1Ya"
      },
      "execution_count": null,
      "outputs": []
    },
    {
      "cell_type": "code",
      "source": [
        "dados_biblioteca.to_csv('cdp_catalogo-biblioteca_versao-2.csv', index=False)"
      ],
      "metadata": {
        "id": "kpZKnWYd0GeG"
      },
      "execution_count": null,
      "outputs": []
    },
    {
      "cell_type": "markdown",
      "source": [
        "Adotamos uma nomenclatura seguindo os padrões estabelecidos nos nossos princípios e salvamos o arquivo em um formato não proprietário, o *csv*.  \n",
        "\n",
        "E onde foi parar o arquivo?\n",
        "> Quando salvamos um arquivo no Google Colab, ele sempre vai para a aba de arquivos. Então, para acessar a nossa nova planilha, cliquem mais uma vez na pasta 📁, no menu à esquerda.\n",
        "\n",
        "Agora que vocês encontraram o arquivo, salvem no computador de vocês. Para isso:\n",
        "1. Cliquem com o botão direito nele (ou nos três pontinhos à direita);\n",
        "2. Baixem o arquivo clicando em \"Fazer download\".\n",
        "\n",
        "Dessa forma, o arquivo que você produziu aqui dentro do Colab, pode ficar salvo no seu computador. E, sempre que você quiser mexer nele de novo, basta abrir o Colab, seguir o passo a passo lá do início para inserir e abrir o arquivo, que é sucesso!"
      ],
      "metadata": {
        "id": "A-49NcP_0MN2"
      }
    },
    {
      "cell_type": "markdown",
      "source": [
        "## **No próximo módulo...**\n",
        "Falamos muito sobre organizar os dados para não sofrermos no momento da análise. Pois é, no próximo módulo chegaremos nessa etapa, na análise dos dados.\n",
        "\n",
        "Para dar um gostinho do que vamos ver. Segue uma pequena função do próprio `pandas` que já é uma mão na roda.\n"
      ],
      "metadata": {
        "id": "hfq1lDXl2c5z"
      }
    },
    {
      "cell_type": "code",
      "source": [
        "df_biblioteca = pd.read_csv('/content/cdp_catalogo-biblioteca_versao-2.csv')\n",
        "\n",
        "df_biblioteca['exemplares'].describe()"
      ],
      "metadata": {
        "id": "lChdOqhv2wm9"
      },
      "execution_count": null,
      "outputs": []
    },
    {
      "cell_type": "markdown",
      "source": [
        "---\n",
        "<p align=\"left\">\n",
        "    <small>\n",
        "    <strong>Ciência de Dados para Pesquisa </strong></br>\n",
        "    <I> Módulo 2 - Organização e pré-processamento </I>\n",
        "    </small>\n",
        "</p>"
      ],
      "metadata": {
        "id": "U7mW8T7FP-qy"
      }
    }
  ]
}