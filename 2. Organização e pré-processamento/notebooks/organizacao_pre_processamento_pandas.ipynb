{
  "nbformat": 4,
  "nbformat_minor": 0,
  "metadata": {
    "colab": {
      "provenance": []
    },
    "kernelspec": {
      "name": "python3",
      "display_name": "Python 3"
    },
    "language_info": {
      "name": "python"
    }
  },
  "cells": [
    {
      "cell_type": "markdown",
      "source": [
        "# **Organização e pré-processamento com _pandas_**"
      ],
      "metadata": {
        "id": "KmAI9HasNgs6"
      }
    },
    {
      "cell_type": "code",
      "execution_count": null,
      "metadata": {
        "id": "a0bWYGNRNbL8"
      },
      "outputs": [],
      "source": []
    },
    {
      "cell_type": "markdown",
      "source": [
        "---\n",
        "<p align=\"left\">\n",
        "    <small>\n",
        "    <strong>Ciência de Dados para Pesquisa </strong></br>\n",
        "    <I> Módulo 2 - Organização e pré-processamento </I>\n",
        "    </small>\n",
        "</p>"
      ],
      "metadata": {
        "id": "U7mW8T7FP-qy"
      }
    }
  ]
}