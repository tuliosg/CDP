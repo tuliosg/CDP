{
  "nbformat": 4,
  "nbformat_minor": 0,
  "metadata": {
    "colab": {
      "provenance": []
    },
    "kernelspec": {
      "name": "python3",
      "display_name": "Python 3"
    },
    "language_info": {
      "name": "python"
    }
  },
  "cells": [
    {
      "cell_type": "markdown",
      "source": [
        "# **Prática de programação em Python**\n",
        "Neste notebook, vamos conhecer a linguagem Python e entender como os conceitos vistos até aqui são aplicados em uma linguagem de programação.  \n",
        "\n",
        "*Por que Python?*\n",
        "> O Python é uma linguagem de alto nível — uma linguagem de programação que se aproxima da linguagem natural —, considerada um canivete suíço no mundo da programação e conta com uma das maiores comunidades do mundo. Na área de dados, o Python se destaca por conta das incontáveis bibliotecas que permitem desde a manipulação de dados em diferentes formatos, a geração de gráficos para análises, até a construção de inteligências artificiais, passando por todo o ciclo de vida dos dados.\n"
      ],
      "metadata": {
        "id": "9RO92jdMgnZi"
      }
    },
    {
      "cell_type": "markdown",
      "source": [
        "## **Variáveis**\n",
        "Em Python, as variáveis podem ser definidas por qualquer nome, desde que sejam utilizadas apenas letras e números ou o símbolo underline, e, obrigatoriamente, comecem com letras. É importante frisar que não podem haver espaços em branco nos nomes das variáveis, pois isso gera erros.  \n",
        "\n",
        "Nomear uma variável requer especificidade, pois o nome dela tem que facilitar o entendimento na hora da programação. Assim, se queremos salvar um nome em uma variável, precisamos pensar em definições como `nome` ou `nome_sobrenome` ao invés de `variavel`.\n",
        "Vejamos alguns exemplos:"
      ],
      "metadata": {
        "id": "6rfvSAAEtvBC"
      }
    },
    {
      "cell_type": "code",
      "execution_count": 3,
      "metadata": {
        "id": "EODg_V9QxRPU"
      },
      "outputs": [],
      "source": [
        "# Exemplos de variáveis que funcionam\n",
        "nome_1 = \"Nome\"\n",
        "verdadeiro = True\n",
        "numero_dias_ano = 365\n",
        "pi = 3.14\n",
        "\n",
        "# Exemplos de variáveis que NÃO funcionam\n",
        "# carro um = \"Chevete\"\n",
        "# 1animal = \"Papagaio\""
      ]
    },
    {
      "cell_type": "markdown",
      "source": [
        "### **O uso do \"=\" nas variáveis**\n",
        "Definir uma variável requer uma atribuição. Assim como na nossa receita, onde a variável `cumbuca` recebia 300g de farinha, em Python, precisamos dizer que `numero_dias_ano` recebe 365, e o sinal utilizado para essa atribuição é o **=** (igual). Então, a partir de agora, no contexto da programação, o sinal de **=** deve ser lido como \"**recebe**\". Voltando a nossa analogia com a cozinha, aqui estamos vendo os valores das variávies.\n",
        "\n",
        "Lendo as nossas variáveis anteriores:\n",
        "* `nome_1` **recebe** \"Nome\"\n",
        "* `nome_sobrenome` **recebe** \"Nome Sobrenome\"\n",
        "* `numero_dias_ano` **recebe** 365"
      ],
      "metadata": {
        "id": "fYlwSbvuvEtk"
      }
    },
    {
      "cell_type": "markdown",
      "source": [
        "### **Tipos de dados**\n",
        "Cada uma das variáveis recebeu um dado diferente, entre textos e números. Em Python, cada um desses tipos de dados tem uma nomenclatura específica. Vamos ver a seguir cada uma delas:"
      ],
      "metadata": {
        "id": "8WCXjm5Dw06W"
      }
    },
    {
      "cell_type": "code",
      "source": [
        "print(f\"\"\"\n",
        "Variáveis e seus tipos:\n",
        "\n",
        "A variável nome_1 é do tipo {type(nome_1)}\n",
        "A variável verdadeiro é do tipo {type(verdadeiro)}\n",
        "A variável numero_dias_ano é do tipo {type(numero_dias_ano)}\n",
        "A variável pi é do tipo {type(pi)}\n",
        "\"\"\")"
      ],
      "metadata": {
        "colab": {
          "base_uri": "https://localhost:8080/"
        },
        "id": "rETV7cTEsLlL",
        "outputId": "fc4a1b99-4852-48bf-ef71-12940f240474"
      },
      "execution_count": 4,
      "outputs": [
        {
          "output_type": "stream",
          "name": "stdout",
          "text": [
            "\n",
            "Variáveis e seus tipos:\n",
            "\n",
            "A variável nome_1 é do tipo <class 'str'>\n",
            "A variável verdadeiro é do tipo <class 'bool'>\n",
            "A variável numero_dias_ano é do tipo <class 'int'>\n",
            "A variável pi é do tipo <class 'float'>\n",
            "\n"
          ]
        }
      ]
    },
    {
      "cell_type": "markdown",
      "source": [
        "#### **Entendendo os tipos de dados**\n",
        "Como foi apontado na saída do nosso código, os tipos de dados pertencem a determinadas classes. São elas:\n",
        "* `str`: classe das strings (ou sequência de texto) — são dados textuais;  \n",
        "    Strings sempre devem ser declaradas entre aspas (podem ser aspas simples ou duplas).\n",
        "    \n",
        "* `bool`: classe dos booleanos — verdadeiro, falso;  \n",
        "    Em Python, dados booleanos assumem apenas dois valores: True e False.\n",
        "\n",
        "* `int`: classe dos números inteiros;  \n",
        "    Os números inteiros são declarados diretamente, sem o uso de aspas;\n",
        "\n",
        "* `float`: classe dos números de ponto flutuante — números que possuem casas decimais.  \n",
        "    Os números de ponto flutuante devem conter o ponto e suas casas decimais para serem declarados: 3.14 (atentem-se que não usamos vírgula e sim ponto)."
      ],
      "metadata": {
        "id": "hn226qrUPbR_"
      }
    },
    {
      "cell_type": "markdown",
      "source": [
        "## **Funções**\n",
        "No conteúdo, vimos funções como estruturas que recebem entradas, realizam operações nessa entrada e devolvem uma saída, e o exemplo usado foi a soma.  \n",
        "Vamos ver uma função de soma escrita em Python:"
      ],
      "metadata": {
        "id": "ynyO0W-a-tH5"
      }
    },
    {
      "cell_type": "code",
      "source": [
        "def soma(numero_1, numero_2):\n",
        "\n",
        "    resultado = numero_1 + numero_2\n",
        "\n",
        "    return resultado"
      ],
      "metadata": {
        "id": "P8k2pP0h_Azd"
      },
      "execution_count": 3,
      "outputs": []
    },
    {
      "cell_type": "markdown",
      "source": [
        "### **Lendo a função de soma**\n",
        "Na primeira linha vemos `def soma(numero_1, numero_2)`. Nela temos:\n",
        "* `def`: é a palavra que usamos para definir a função — *def* é a abreviação de *define*;\n",
        "* `soma`: esse é o nome da função, chamamos ela de função soma;\n",
        "* `(numero_1, numero_2)`: é a entrada da função. Estamos dizendo que serão inseridos dois dados, que foram chamados de numero_1 e numero_2 para facilitar o entendimento;\n",
        "* `resultado = numero_1 + numero_2`: essa é a operação principal da função soma. Nela, somamos os números da entrada e guardamos o valor dessa soma na variável `resultado`;\n",
        "* `return resultado`: é a saída da função, o resultado dela. O `return` é a operação de retorno da função, assim, podemos ler \"retorne o resultado\".\n",
        "\n",
        "Traduzindo a nossa função do Python para o português, temos:  \n",
        "```\n",
        "Estou definindo uma função chamada soma que:\n",
        "1. Recebe dois números;\n",
        "2. Soma os dois números e salva o resultado;\n",
        "3. Retorna o resultado da soma.\n",
        "```\n",
        "❗ *Percebam que após a primeira linha há um espaço (semelhante à um recuo de parágrafo) antes da escrita do código. O nome desse espaçamento é **identação**, e serve para indicar que as linhas seguintes fazem parte daquele bloco de código. Assim,  separamos o que é código da função e o que faz parte do resto do programa.*"
      ],
      "metadata": {
        "id": "jCQughudAERZ"
      }
    },
    {
      "cell_type": "markdown",
      "source": [
        "### **Testando a soma**\n",
        "O teste da função é bem simples. Como o nome dela é `soma`, basta chamarmos o seu nome e indicarmos quais números queremos somar."
      ],
      "metadata": {
        "id": "VO5YC7WHBrIB"
      }
    },
    {
      "cell_type": "code",
      "source": [
        "soma(1, 5)"
      ],
      "metadata": {
        "colab": {
          "base_uri": "https://localhost:8080/"
        },
        "id": "M3HaKdP7B6RC",
        "outputId": "1c54065f-83be-4e3d-f48c-d5c4fa873ef3"
      },
      "execution_count": 4,
      "outputs": [
        {
          "output_type": "execute_result",
          "data": {
            "text/plain": [
              "6"
            ]
          },
          "metadata": {},
          "execution_count": 4
        }
      ]
    },
    {
      "cell_type": "markdown",
      "source": [
        "O nome dessa ação que estamos fazendo é **chamada de função**. Para a função soma, a chamada é:  \n",
        "`soma(numero, outro_numero)` — a vírgula é entendida como um separador de argumentos, ou seja, usamos ela para separar o primeiro número da soma do segundo."
      ],
      "metadata": {
        "id": "BOIVhMSCCi2N"
      }
    },
    {
      "cell_type": "markdown",
      "source": [
        "### **Hora de praticar**\n",
        "Escolham dois números e executem a função soma na célula abaixo:\n"
      ],
      "metadata": {
        "id": "FSRhE_mPj4nu"
      }
    },
    {
      "cell_type": "code",
      "source": [
        "# escreva o seu código aqui\n"
      ],
      "metadata": {
        "id": "Sl6CiNjmkFiE"
      },
      "execution_count": 1,
      "outputs": []
    },
    {
      "cell_type": "markdown",
      "source": [
        "## **Loops**\n",
        "Os loops são as estruturas que vão nos poupar de ter o trabalho massante de repetir muitas vezes uma determinada ação.  \n",
        "Para entender melhor, voltemos à soma. Vamos imaginar que aplicamos uma prova com 5 questões e, no momento de corrigir, queremos criar um programa que some as pontuações e retorne o resultado.\n",
        "\n",
        "Poderíamos tentar usar a nossa função `soma`?   \n",
        "Sim, mas seria um trabalho moroso, pois só é possível somar 2 números por vez, então seria necessário repetir essa chamada de função 4 vezes.\n",
        "\n",
        "Mas, com loops, podemos melhorar esse código e deixar todo o trabalho duro para o computador."
      ],
      "metadata": {
        "id": "fstKmzQulnIR"
      }
    },
    {
      "cell_type": "code",
      "source": [
        "pontuacao_questoes = [1, 1.5, 1, 0.9, 0]\n",
        "\n",
        "resultado = 0\n",
        "\n",
        "for pontuacao in pontuacao_questoes:\n",
        "    resultado = soma(resultado, pontuacao)\n",
        "\n",
        "print(resultado)"
      ],
      "metadata": {
        "colab": {
          "base_uri": "https://localhost:8080/"
        },
        "id": "cfJkb6LZnf_3",
        "outputId": "397c98aa-6667-4f6e-97ea-84bbaf3c269c"
      },
      "execution_count": 6,
      "outputs": [
        {
          "output_type": "stream",
          "name": "stdout",
          "text": [
            "4.4\n"
          ]
        }
      ]
    },
    {
      "cell_type": "markdown",
      "source": [
        "### **Entendendo o loop**\n",
        "1. Vamos começar transformando as pontuações da prova em uma lista. Ou seja, vamos anotar cada uma das notas e guardar para somar — fizemos isso usando uma lista que possui 5 posições, uma para cada pontuação.  \n",
        "    `pontuacao_questoes = [1, 1.5, 1, 0.9, 0]`\n",
        "\n",
        "2. Depois, estabelecemos a pontuação inicial do discente — como toda prova que ainda não foi corrigida não tem pontuação, definimos que o aluno começa com a nota 0, por isso `resultado = 0`.  \n",
        "\n",
        "3. Para somar todas as pontuações, precisamos pegar cada uma delas e colocar na nossa conta. Essa ação é o **loop**, ou estrutura de repetição, e acontece na linha `for pontuacao in pontuacao_questoes:`, que pode ser lida como \"*para cada pontuação na lista de pontuações das questões*.\n",
        "\n",
        "4. Por fim, usamos a nossa função `soma` para somar as pontuações de cada questão e atualizar o valor do resultado da prova — a nota final.\n"
      ],
      "metadata": {
        "id": "UHT45G1woBIv"
      }
    },
    {
      "cell_type": "markdown",
      "source": [
        "## **Bibliotecas**\n",
        "As bibliotecas são uma das grandes vantagens de se utilizar Python, pois temos acesso à um leque *quase* infinito de métodos, funções, operações, que já foram construídas e funcionam bem.  \n",
        "Para acessar uma biblioteca em Python precisamos fazer duas ações:\n",
        "1. Instalar a biblioteca — processo equivalente a instalar um programa no seu computador;\n",
        "2. Importar a biblioteca. Depois de instalada, é a importação dela para o nosso ambiente que possibilita o uso.\n",
        "\n",
        "Vamos instalar e usar uma biblioteca que já tem pronta esse código que criamos para somar as notas da prova. O nome da biblioteca é `numpy`."
      ],
      "metadata": {
        "id": "J6gvS3EeqZAV"
      }
    },
    {
      "cell_type": "markdown",
      "source": [
        "### **Instalando a biblioteca**\n",
        "A instalação é bem simples e acontece usando o bloco de código. A estrutura para instalar uma biblioteca no ambiente do Google Colab é:  \n",
        "`!pip install nome-da-biblioteca`\n",
        "\n",
        "Para a biblioteca que vamos utilizar, basta rodar a célula abaixo e esperar ela apresentar o símbolo ✅ que indica o fim da instalação."
      ],
      "metadata": {
        "id": "6Kzh_CRIr3au"
      }
    },
    {
      "cell_type": "code",
      "source": [
        "!pip install numpy"
      ],
      "metadata": {
        "colab": {
          "base_uri": "https://localhost:8080/"
        },
        "id": "Lr-YopvOqYk0",
        "outputId": "bcc177e5-7321-4cdf-9e7f-a0103a8f106b"
      },
      "execution_count": 7,
      "outputs": [
        {
          "output_type": "stream",
          "name": "stdout",
          "text": [
            "Requirement already satisfied: numpy in /usr/local/lib/python3.11/dist-packages (2.0.2)\n"
          ]
        }
      ]
    },
    {
      "cell_type": "markdown",
      "source": [
        "### **Importando e usando o numpy**\n",
        "A importação — ou seja, chamar a biblioteca para ser usada — ocorre através da palavra `import`. Então, ao escrevermos `import numpy`, estamos indicando no nosso programa que as funcionalidades da biblioteca `numpy` serão importadas e poderão ser usadas.\n",
        "\n",
        "*E o uso?*  \n",
        "Usar uma função da biblioteca importada depende de chamarmos essa função indicando que ela faz parte da biblioteca.   \n",
        "Vamos dizer que queremos usar a função `sum` da biblioteca `numpy`. A estrutura para isso é:  \n",
        "`numpy.sum`\n",
        "\n",
        "Voltemos a prova que corrigimos. Com a função `sum` da biblitoeca que importamos, é possível somar todas as pontuações da nossa lista apenas inserindo ela como a variável de entrada na função."
      ],
      "metadata": {
        "id": "zKqjKXfbsffU"
      }
    },
    {
      "cell_type": "code",
      "source": [
        "import numpy\n",
        "\n",
        "pontuacao_questoes = [1, 1.5, 1, 0.9, 0]\n",
        "\n",
        "resultado = numpy.sum(pontuacao_questoes)\n",
        "\n",
        "print(resultado)"
      ],
      "metadata": {
        "colab": {
          "base_uri": "https://localhost:8080/"
        },
        "id": "Bf2ozbSxuBgH",
        "outputId": "c9665c92-a868-400b-b694-44d4ec43d3de"
      },
      "execution_count": 8,
      "outputs": [
        {
          "output_type": "stream",
          "name": "stdout",
          "text": [
            "4.4\n"
          ]
        }
      ]
    },
    {
      "cell_type": "markdown",
      "source": [
        "---\n",
        "<p align=\"left\">\n",
        "    <small>\n",
        "    <strong>Ciência de Dados para Pesquisa </strong></br>\n",
        "    <I> Módulo 1 - Introdução à Ciência de Dados e Python </I>\n",
        "    </small>\n",
        "</p>"
      ],
      "metadata": {
        "id": "8vXInP-rsL2X"
      }
    }
  ]
}