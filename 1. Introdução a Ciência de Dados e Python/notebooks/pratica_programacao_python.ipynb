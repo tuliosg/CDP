{
  "nbformat": 4,
  "nbformat_minor": 0,
  "metadata": {
    "colab": {
      "provenance": []
    },
    "kernelspec": {
      "name": "python3",
      "display_name": "Python 3"
    },
    "language_info": {
      "name": "python"
    }
  },
  "cells": [
    {
      "cell_type": "markdown",
      "source": [
        "# **Prática de programação em Python**\n",
        "Neste notebook, vamos conhecer a linguagem Python e entender como os conceitos vistos até aqui são aplicados em uma linguagem de programação.  \n",
        "\n",
        "*Por que Python?*\n",
        "> O Python é uma linguagem de alto nível — uma linguagem de programação que se aproxima da linguagem natural —, considerada um canivete suíço no mundo da programação e conta com uma das maiores comunidades do mundo. Na área de dados, o Python se destaca por conta das incontáveis bibliotecas que permitem desde a manipulação de dados em diferentes formatos, a geração de gráficos para análises, até a construção de inteligências artificiais, passando por todo o ciclo de vida dos dados.\n"
      ],
      "metadata": {
        "id": "9RO92jdMgnZi"
      }
    },
    {
      "cell_type": "markdown",
      "source": [
        "## **Variáveis**\n",
        "Em Python, as variáveis podem ser definidas por qualquer nome, desde que sejam utilizadas apenas letras e números ou o símbolo underline, e, obrigatoriamente, comecem com letras. É importante frisar que não podem haver espaços em branco nos nomes das variáveis, pois isso gera erros.  \n",
        "\n",
        "Nomear uma variável requer especificidade, pois o nome dela tem que facilitar o entendimento na hora da programação. Assim, se queremos salvar um nome em uma variável, precisamos pensar em definições como `nome` ou `nome_sobrenome` ao invés de `variavel`.\n",
        "Vejamos alguns exemplos:"
      ],
      "metadata": {
        "id": "6rfvSAAEtvBC"
      }
    },
    {
      "cell_type": "code",
      "execution_count": 9,
      "metadata": {
        "id": "EODg_V9QxRPU"
      },
      "outputs": [],
      "source": [
        "# Exemplos de variáveis que funcionam\n",
        "nome_1 = \"Nome\"\n",
        "verdadeiro = True\n",
        "numero_dias_ano = 365\n",
        "pi = 3.14\n",
        "\n",
        "# Exemplos de variáveis que NÃO funcionam\n",
        "# carro um = \"Chevete\"\n",
        "# 1animal = \"Papagaio\""
      ]
    },
    {
      "cell_type": "markdown",
      "source": [
        "### **O uso do \"=\" nas variáveis**\n",
        "Definir uma variável requer uma atribuição. Assim como na nossa receita, onde a variável `cumbuca` recebia 300g de farinha, em Python, precisamos dizer que `numero_dias_ano` recebe 365 e o sinal utilizado para essa atribuição é o **=** (igual). Então, a partir de agora, no contexto da programação, o sinal de **=** deve ser lido como \"**recebe**\". Voltando a nossa analogia com a cozinha, aqui estamos vendo os valores das variávies.\n",
        "\n",
        "Lendo as nossas variáveis anteriores:\n",
        "* `nome_1` recebe \"Nome\"\n",
        "* `nome_sobrenome` recebe \"Nome Sobrenome\"\n",
        "* `numero_dias_ano` recebe 365"
      ],
      "metadata": {
        "id": "fYlwSbvuvEtk"
      }
    },
    {
      "cell_type": "markdown",
      "source": [
        "### **Tipos de dados**\n",
        "Cada uma das variáveis recebeu um dado diferente, entre textos e números. Em Python, cada um desses tipos de dados tem uma nomenclatura específica. Vamos ver a seguir cada uma delas:"
      ],
      "metadata": {
        "id": "8WCXjm5Dw06W"
      }
    },
    {
      "cell_type": "code",
      "source": [
        "print(f\"\"\"\n",
        "Variáveis e seus tipos:\n",
        "\n",
        "A variável nome_1 é do tipo {type(nome_1)}\n",
        "A variável verdadeiro é do tipo {type(verdadeiro)}\n",
        "A variável numero_dias_ano é do tipo {type(numero_dias_ano)}\n",
        "A variável pi é do tipo {type(pi)}\n",
        "\"\"\")"
      ],
      "metadata": {
        "colab": {
          "base_uri": "https://localhost:8080/"
        },
        "id": "rETV7cTEsLlL",
        "outputId": "48bcd68d-2c97-4348-d221-e724699145dd"
      },
      "execution_count": 10,
      "outputs": [
        {
          "output_type": "stream",
          "name": "stdout",
          "text": [
            "\n",
            "Variáveis e seus tipos:\n",
            "\n",
            "A variável nome_1 é do tipo <class 'str'>\n",
            "A variável verdadeiro é do tipo <class 'bool'>\n",
            "A variável numero_dias_ano é do tipo <class 'int'>\n",
            "A variável pi é do tipo <class 'float'>\n",
            "\n"
          ]
        }
      ]
    },
    {
      "cell_type": "markdown",
      "source": [
        "#### **Entendendo os tipos de dados**\n",
        "Como foi apontado na saída do nosso código, os tipos de dados pertencem a determinadas classes. São elas:\n",
        "* `str`: classe das strings (ou sequência de texto) — são dados textuais;  \n",
        "    Strings sempre devem ser declaradas entre aspas (podem ser aspas simples ou duplas).\n",
        "    \n",
        "* `bool`: classe dos booleanos — verdadeiro, falso;  \n",
        "    Em Python, dados booleanos assumem apenas dois valores: True e False.\n",
        "\n",
        "* `int`: classe dos números inteiros;\n",
        "    Os números inteiros são declarados diretamente, sem o uso de aspas;\n",
        "\n",
        "* `float`: classe dos números de ponto flutuante — números que possuem casas decimais.\n",
        "    Os números de ponto flutuante devem conter o ponto e suas casas decimais para serem declarados: 3.14 (atentem-se que não usamos vírgula e sim ponto)."
      ],
      "metadata": {
        "id": "hn226qrUPbR_"
      }
    },
    {
      "cell_type": "markdown",
      "source": [
        "---\n",
        "<p align=\"left\">\n",
        "    <small>\n",
        "    <strong>Ciência de Dados para Pesquisa </strong></br>\n",
        "    <I> Módulo 1 - Introdução à Ciência de Dados e Python </I>\n",
        "    </small>\n",
        "</p>"
      ],
      "metadata": {
        "id": "8vXInP-rsL2X"
      }
    }
  ]
}