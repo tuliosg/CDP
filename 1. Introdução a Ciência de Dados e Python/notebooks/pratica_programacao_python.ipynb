{
  "nbformat": 4,
  "nbformat_minor": 0,
  "metadata": {
    "colab": {
      "provenance": []
    },
    "kernelspec": {
      "name": "python3",
      "display_name": "Python 3"
    },
    "language_info": {
      "name": "python"
    }
  },
  "cells": [
    {
      "cell_type": "markdown",
      "source": [
        "# **Prática de programação em Python**\n",
        "Neste notebook, vamos conhecer a linguagem Python e entender como os conceitos vistos até aqui são aplicados em uma linguagem de programação.  \n",
        "\n",
        "*Por que Python?*\n",
        "> O Python é uma linguagem de alto nível — uma linguagem de programação que se aproxima da linguagem natural —, considerada um canivete suíço no mundo da programação e conta com uma das maiores comunidades do mundo. Na área de dados, o Python se destaca por conta das incontáveis bibliotecas que permitem desde a manipulação de dados em diferentes formatos, a geração de gráficos para análises, até a construção de inteligências artificiais, passando por todo o ciclo de vida dos dados.\n"
      ],
      "metadata": {
        "id": "9RO92jdMgnZi"
      }
    },
    {
      "cell_type": "markdown",
      "source": [
        "## **Variáveis**\n",
        "Em Python, as variáveis podem ser definidas por qualquer nome, desde que sejam utilizadas apenas letras e números ou o símbolo underline, e, obrigatoriamente, comecem com letras. É importante frisar que não podem haver espaços em branco nos nomes das variáveis, pois isso gera erros.  \n",
        "\n",
        "Nomear uma variável requer especificidade, pois o nome dela tem que facilitar o entendimento na hora da programação. Assim, se queremos salvar um nome em uma variável, precisamos pensar em definições como `nome` ou `nome_sobrenome` ao invés de `variavel`.\n",
        "Vejamos alguns exemplos:"
      ],
      "metadata": {
        "id": "6rfvSAAEtvBC"
      }
    },
    {
      "cell_type": "code",
      "execution_count": 3,
      "metadata": {
        "id": "EODg_V9QxRPU"
      },
      "outputs": [],
      "source": [
        "# Exemplos de variáveis que funcionam\n",
        "nome_1 = \"Nome\"\n",
        "verdadeiro = True\n",
        "numero_dias_ano = 365\n",
        "pi = 3.14\n",
        "\n",
        "# Exemplos de variáveis que NÃO funcionam\n",
        "# carro um = \"Chevete\"\n",
        "# 1animal = \"Papagaio\""
      ]
    },
    {
      "cell_type": "markdown",
      "source": [
        "### **O uso do \"=\" nas variáveis**\n",
        "Definir uma variável requer uma atribuição. Assim como na nossa receita, onde a variável `cumbuca` recebia 300g de farinha, em Python, precisamos dizer que `numero_dias_ano` recebe 365, e o sinal utilizado para essa atribuição é o **=** (igual). Então, a partir de agora, no contexto da programação, o sinal de **=** deve ser lido como \"**recebe**\". Voltando a nossa analogia com a cozinha, aqui estamos vendo os valores das variávies.\n",
        "\n",
        "Lendo as nossas variáveis anteriores:\n",
        "* `nome_1` **recebe** \"Nome\"\n",
        "* `nome_sobrenome` **recebe** \"Nome Sobrenome\"\n",
        "* `numero_dias_ano` **recebe** 365"
      ],
      "metadata": {
        "id": "fYlwSbvuvEtk"
      }
    },
    {
      "cell_type": "markdown",
      "source": [
        "### **Tipos de dados**\n",
        "Cada uma das variáveis recebeu um dado diferente, entre textos e números. Em Python, cada um desses tipos de dados tem uma nomenclatura específica. Vamos ver a seguir cada uma delas:"
      ],
      "metadata": {
        "id": "8WCXjm5Dw06W"
      }
    },
    {
      "cell_type": "code",
      "source": [
        "print(f\"\"\"\n",
        "Variáveis e seus tipos:\n",
        "\n",
        "A variável nome_1 é do tipo {type(nome_1)}\n",
        "A variável verdadeiro é do tipo {type(verdadeiro)}\n",
        "A variável numero_dias_ano é do tipo {type(numero_dias_ano)}\n",
        "A variável pi é do tipo {type(pi)}\n",
        "\"\"\")"
      ],
      "metadata": {
        "colab": {
          "base_uri": "https://localhost:8080/"
        },
        "id": "rETV7cTEsLlL",
        "outputId": "fc4a1b99-4852-48bf-ef71-12940f240474"
      },
      "execution_count": 4,
      "outputs": [
        {
          "output_type": "stream",
          "name": "stdout",
          "text": [
            "\n",
            "Variáveis e seus tipos:\n",
            "\n",
            "A variável nome_1 é do tipo <class 'str'>\n",
            "A variável verdadeiro é do tipo <class 'bool'>\n",
            "A variável numero_dias_ano é do tipo <class 'int'>\n",
            "A variável pi é do tipo <class 'float'>\n",
            "\n"
          ]
        }
      ]
    },
    {
      "cell_type": "markdown",
      "source": [
        "#### **Entendendo os tipos de dados**\n",
        "Como foi apontado na saída do nosso código, os tipos de dados pertencem a determinadas classes. São elas:\n",
        "* `str`: classe das strings (ou sequência de texto) — são dados textuais;  \n",
        "    Strings sempre devem ser declaradas entre aspas (podem ser aspas simples ou duplas).\n",
        "    \n",
        "* `bool`: classe dos booleanos — verdadeiro, falso;  \n",
        "    Em Python, dados booleanos assumem apenas dois valores: True e False.\n",
        "\n",
        "* `int`: classe dos números inteiros;  \n",
        "    Os números inteiros são declarados diretamente, sem o uso de aspas;\n",
        "\n",
        "* `float`: classe dos números de ponto flutuante — números que possuem casas decimais.  \n",
        "    Os números de ponto flutuante devem conter o ponto e suas casas decimais para serem declarados: 3.14 (atentem-se que não usamos vírgula e sim ponto)."
      ],
      "metadata": {
        "id": "hn226qrUPbR_"
      }
    },
    {
      "cell_type": "markdown",
      "source": [
        "## **Funções**\n",
        "No conteúdo, vimos funções como estruturas que recebem entradas, realizam operações nessa entrada e devolvem uma saída, e o exemplo usado foi a soma.  \n",
        "Vamos ver uma função de soma escrita em Python:"
      ],
      "metadata": {
        "id": "ynyO0W-a-tH5"
      }
    },
    {
      "cell_type": "code",
      "source": [
        "def soma(numero_1, numero_2):\n",
        "\n",
        "    resultado = numero_1 + numero_2\n",
        "\n",
        "    return resultado"
      ],
      "metadata": {
        "id": "P8k2pP0h_Azd"
      },
      "execution_count": 5,
      "outputs": []
    },
    {
      "cell_type": "markdown",
      "source": [
        "### **Lendo a função de soma**\n",
        "Na primeira linha vemos `def soma(numero_1, numero_2)`. Nela temos:\n",
        "* `def`: é a palavra que usamos para definir a função — *def* é a abreviação de *define*;\n",
        "* `soma`: esse é o nome da função, chamamos ela de função soma;\n",
        "* `(numero_1, numero_2)`: é a entrada da função. Estamos dizendo que serão inseridos dois dados, que foram chamados de numero_1 e numero_2 para facilitar o entendimento;\n",
        "* `resultado = numero_1 + numero_2`: essa é a operação principal da função soma. Nela, somamos os números da entrada e guardamos o valor dessa soma na variável `resultado`;\n",
        "* `return resultado`: é a saída da função, o resultado dela. O `return` é a operação de retorno da função, assim, podemos ler \"retorne o resultado\".\n",
        "\n",
        "Traduzindo a nossa função do Python para o português, temos:  \n",
        "```\n",
        "Estou definindo uma função chamada soma que:\n",
        "1. Recebe dois números;\n",
        "2. Soma os dois números e salva o resultado;\n",
        "3. Retorna o resultado da soma.\n",
        "```"
      ],
      "metadata": {
        "id": "jCQughudAERZ"
      }
    },
    {
      "cell_type": "markdown",
      "source": [
        "### **Testando a soma**\n",
        "O teste da função é bem simples. Como o nome dela é `soma`, basta chamarmos o seu nome e indicarmos quais números queremos somar."
      ],
      "metadata": {
        "id": "VO5YC7WHBrIB"
      }
    },
    {
      "cell_type": "code",
      "source": [
        "soma(1, 5)"
      ],
      "metadata": {
        "colab": {
          "base_uri": "https://localhost:8080/"
        },
        "id": "M3HaKdP7B6RC",
        "outputId": "b823ec79-c937-4123-f8cb-bce2f4b1e3b1"
      },
      "execution_count": 6,
      "outputs": [
        {
          "output_type": "execute_result",
          "data": {
            "text/plain": [
              "6"
            ]
          },
          "metadata": {},
          "execution_count": 6
        }
      ]
    },
    {
      "cell_type": "markdown",
      "source": [
        "O nome dessa ação que estamos fazendo é **chamada de função**. Para a função soma, a chamada de função é:  \n",
        "`soma(numero, outro_numero)` — a vírgula é entendida como um separador de argumentos, ou seja, usamos ela para separar o primeiro número da soma do segundo."
      ],
      "metadata": {
        "id": "BOIVhMSCCi2N"
      }
    },
    {
      "cell_type": "markdown",
      "source": [
        "---\n",
        "<p align=\"left\">\n",
        "    <small>\n",
        "    <strong>Ciência de Dados para Pesquisa </strong></br>\n",
        "    <I> Módulo 1 - Introdução à Ciência de Dados e Python </I>\n",
        "    </small>\n",
        "</p>"
      ],
      "metadata": {
        "id": "8vXInP-rsL2X"
      }
    }
  ]
}