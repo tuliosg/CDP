{
  "nbformat": 4,
  "nbformat_minor": 0,
  "metadata": {
    "colab": {
      "provenance": []
    },
    "kernelspec": {
      "name": "python3",
      "display_name": "Python 3"
    },
    "language_info": {
      "name": "python"
    }
  },
  "cells": [
    {
      "cell_type": "markdown",
      "source": [
        "# **Introdução ao Google Colab**\n",
        "A partir de agora, este será nosso ambiente de trabalho, o Google Colaboratory. Comumente chamado de Colab, este é um serviço da Google que permite a criação de Jupyter Notebooks sem a necessidade de configurações para uso e sem custos.  \n",
        "> *O que são **Juypter Notebooks**[¹]?*    \n",
        ">\n",
        "> São ambientes web de programação interativa estruturados em células,permitindo a inserção de código, texto, gráficos e imagens. O principal componente interacional do notebook é a execução dos blocos de código de maneira indepentende. Além disso, por conta dos blocos de texto (e outros recursos visuais), é muito mais fácil apresentar e explicar os códigos desenvolvidos.\n",
        "\n",
        "[¹]: https://docs.jupyter.org/en/latest/#what-is-a-notebook\n"
      ],
      "metadata": {
        "id": "PU7N2zK6r0RJ"
      }
    },
    {
      "cell_type": "code",
      "execution_count": null,
      "metadata": {
        "id": "38mA7msjrN2B"
      },
      "outputs": [],
      "source": []
    },
    {
      "cell_type": "markdown",
      "source": [
        "---\n",
        "<p align=\"left\">\n",
        "    <small>\n",
        "    <strong>Ciência de Dados para Pesquisa </strong></br>\n",
        "    <I> Módulo 1 - Introdução à Ciência de Dados e Python </I>\n",
        "    </small>\n",
        "</p>"
      ],
      "metadata": {
        "id": "j-kO7Rlv1bS3"
      }
    }
  ]
}